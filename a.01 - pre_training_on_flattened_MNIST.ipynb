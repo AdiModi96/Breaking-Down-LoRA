{
 "cells": [
  {
   "cell_type": "code",
   "execution_count": 1,
   "id": "6760c2ee-51e0-4872-a048-cf85828cff72",
   "metadata": {},
   "outputs": [],
   "source": [
    "import os\n",
    "import math\n",
    "import numpy as np\n",
    "import pandas as pd\n",
    "import torch\n",
    "from torch import nn, optim\n",
    "from torch.nn import functional as F\n",
    "from torch.utils.data import DataLoader, random_split\n",
    "from tqdm.auto import tqdm\n",
    "from models import MultiLayeredPerceptron\n",
    "from flattened_datasets import MNIST, FashionMNIST\n",
    "import project_paths as pp\n",
    "from IPython.display import display, HTML, Markdown, clear_output\n",
    "from sklearn.metrics import confusion_matrix as cm, precision_recall_fscore_support\n",
    "from matplotlib import pyplot as plt"
   ]
  },
  {
   "cell_type": "markdown",
   "id": "40ae3b59-9907-42fe-bb23-bdf5e5e034d8",
   "metadata": {},
   "source": [
    "# Pre-Training"
   ]
  },
  {
   "cell_type": "markdown",
   "id": "23bddccd-189b-4f52-a99f-bc53be78c1a4",
   "metadata": {},
   "source": [
    "## Defining hyper-parameters for training"
   ]
  },
  {
   "cell_type": "code",
   "execution_count": 2,
   "id": "7ad2cebe-72ef-438c-b5f4-b0df98d0427b",
   "metadata": {},
   "outputs": [],
   "source": [
    "num_epochs = 20\n",
    "train_batch_size = 64\n",
    "val_batch_size = 64\n",
    "learning_rate = 5e-4\n",
    "betas = (0.9, 0.98)"
   ]
  },
  {
   "cell_type": "markdown",
   "id": "4ab6cd65-b862-4edc-aa53-63d2b0d4a90f",
   "metadata": {},
   "source": [
    "## Loading & preparing datasets"
   ]
  },
  {
   "cell_type": "code",
   "execution_count": 3,
   "id": "2d6b3249-37d4-4049-960f-fe97f2752c93",
   "metadata": {},
   "outputs": [],
   "source": [
    "dataset = MNIST(train=True)\n",
    "\n",
    "train_dataset_frac = 0.8\n",
    "num_instances_in_train_dataset = int(len(dataset) * train_dataset_frac)\n",
    "num_instances_in_val_dataset = len(dataset) - num_instances_in_train_dataset\n",
    "train_dataset, val_dataset = random_split(\n",
    "    dataset,\n",
    "    [num_instances_in_train_dataset, num_instances_in_val_dataset],\n",
    "    generator=torch.Generator().manual_seed(1618)\n",
    ")\n",
    "\n",
    "num_train_batches = math.ceil(len(train_dataset) / train_batch_size)\n",
    "train_dataloader = DataLoader(train_dataset, batch_size=train_batch_size, shuffle=True)\n",
    "\n",
    "num_val_batches = math.ceil(len(val_dataset) / val_batch_size)\n",
    "val_dataloader = DataLoader(val_dataset, batch_size=val_batch_size, shuffle=True)"
   ]
  },
  {
   "cell_type": "markdown",
   "id": "8b60deef-44ad-42f8-821c-61025fb0a5ec",
   "metadata": {},
   "source": [
    "## Loading & preparing model for training"
   ]
  },
  {
   "cell_type": "code",
   "execution_count": 4,
   "id": "e5376934-ffa0-488b-96b0-87321b940511",
   "metadata": {},
   "outputs": [],
   "source": [
    "device = 'cuda' if torch.cuda.is_available() else 'cpu'"
   ]
  },
  {
   "cell_type": "code",
   "execution_count": 5,
   "id": "edabcf68-7d8f-4e64-b39e-59dd552097c6",
   "metadata": {},
   "outputs": [
    {
     "data": {
      "text/plain": [
       "<torch._C.Generator at 0x1fb5d188b30>"
      ]
     },
     "execution_count": 5,
     "metadata": {},
     "output_type": "execute_result"
    }
   ],
   "source": [
    "torch.manual_seed(0)"
   ]
  },
  {
   "cell_type": "code",
   "execution_count": 6,
   "id": "64c1f291-ba4b-4189-ac20-2864c41510eb",
   "metadata": {},
   "outputs": [],
   "source": [
    "model = MultiLayeredPerceptron()\n",
    "model.to(device)\n",
    "loss_function = nn.CrossEntropyLoss()\n",
    "optimizer = optim.Adam(model.parameters(), lr=learning_rate, betas=betas)"
   ]
  },
  {
   "cell_type": "code",
   "execution_count": 7,
   "id": "5e4ce245-305b-46e7-b4a5-a4e04562862f",
   "metadata": {},
   "outputs": [
    {
     "name": "stdout",
     "output_type": "stream",
     "text": [
      "Total parameters: 932362\n",
      "Total trainable parameters: 932362\n",
      "Total non-trainable parameters: 0\n"
     ]
    }
   ],
   "source": [
    "total_parameters = 0\n",
    "num_trainable_parameters = 0\n",
    "num_non_trainable_parameters = 0\n",
    "for parameter in model.parameters():\n",
    "    num_parameters = torch.prod(torch.tensor(parameter.size()))\n",
    "    total_parameters += num_parameters\n",
    "    if parameter.requires_grad:\n",
    "        num_trainable_parameters += num_parameters\n",
    "    else:\n",
    "        num_non_trainable_parameters += num_parameters\n",
    "\n",
    "print(f'Total parameters: {total_parameters}')\n",
    "print(f'Total trainable parameters: {num_trainable_parameters}')\n",
    "print(f'Total non-trainable parameters: {num_non_trainable_parameters}')"
   ]
  },
  {
   "cell_type": "code",
   "execution_count": 8,
   "id": "7defa480-2a5b-4688-837e-be6697bfea92",
   "metadata": {},
   "outputs": [],
   "source": [
    "models_output_folder_path = os.path.join(pp.models_folder_path, 'mlp', 'flattened_MNIST', 'pre_trained')\n",
    "if not os.path.isdir(models_output_folder_path):\n",
    "    os.makedirs(models_output_folder_path)"
   ]
  },
  {
   "cell_type": "markdown",
   "id": "88ee6f47-d994-447d-8670-13550f500e5a",
   "metadata": {},
   "source": [
    "## Training"
   ]
  },
  {
   "cell_type": "code",
   "execution_count": 9,
   "id": "977fe6bc-f9f2-44db-86c6-ef5729f6bb87",
   "metadata": {},
   "outputs": [
    {
     "data": {
      "text/markdown": [
       "**Training Summary**"
      ],
      "text/plain": [
       "<IPython.core.display.Markdown object>"
      ]
     },
     "metadata": {},
     "output_type": "display_data"
    },
    {
     "data": {
      "text/html": [
       "<div>\n",
       "<style scoped>\n",
       "    .dataframe tbody tr th:only-of-type {\n",
       "        vertical-align: middle;\n",
       "    }\n",
       "\n",
       "    .dataframe tbody tr th {\n",
       "        vertical-align: top;\n",
       "    }\n",
       "\n",
       "    .dataframe thead th {\n",
       "        text-align: right;\n",
       "    }\n",
       "</style>\n",
       "<table border=\"1\" class=\"dataframe\">\n",
       "  <thead>\n",
       "    <tr style=\"text-align: right;\">\n",
       "      <th></th>\n",
       "      <th>train_loss</th>\n",
       "      <th>val_loss</th>\n",
       "    </tr>\n",
       "    <tr>\n",
       "      <th>epoch_number</th>\n",
       "      <th></th>\n",
       "      <th></th>\n",
       "    </tr>\n",
       "  </thead>\n",
       "  <tbody>\n",
       "    <tr>\n",
       "      <th>1</th>\n",
       "      <td>254.785298</td>\n",
       "      <td>26.234262</td>\n",
       "    </tr>\n",
       "    <tr>\n",
       "      <th>2</th>\n",
       "      <td>93.896975</td>\n",
       "      <td>19.609294</td>\n",
       "    </tr>\n",
       "    <tr>\n",
       "      <th>3</th>\n",
       "      <td>68.241224</td>\n",
       "      <td>18.359201</td>\n",
       "    </tr>\n",
       "    <tr>\n",
       "      <th>4</th>\n",
       "      <td>51.688329</td>\n",
       "      <td>14.683484</td>\n",
       "    </tr>\n",
       "    <tr>\n",
       "      <th>5</th>\n",
       "      <td>42.620602</td>\n",
       "      <td>14.904615</td>\n",
       "    </tr>\n",
       "    <tr>\n",
       "      <th>6</th>\n",
       "      <td>36.798973</td>\n",
       "      <td>14.375626</td>\n",
       "    </tr>\n",
       "    <tr>\n",
       "      <th>7</th>\n",
       "      <td>31.337769</td>\n",
       "      <td>16.763377</td>\n",
       "    </tr>\n",
       "    <tr>\n",
       "      <th>8</th>\n",
       "      <td>26.803078</td>\n",
       "      <td>17.047308</td>\n",
       "    </tr>\n",
       "    <tr>\n",
       "      <th>9</th>\n",
       "      <td>26.533169</td>\n",
       "      <td>13.870102</td>\n",
       "    </tr>\n",
       "    <tr>\n",
       "      <th>10</th>\n",
       "      <td>21.701814</td>\n",
       "      <td>17.565438</td>\n",
       "    </tr>\n",
       "    <tr>\n",
       "      <th>11</th>\n",
       "      <td>21.552272</td>\n",
       "      <td>14.988093</td>\n",
       "    </tr>\n",
       "    <tr>\n",
       "      <th>12</th>\n",
       "      <td>18.480282</td>\n",
       "      <td>17.843822</td>\n",
       "    </tr>\n",
       "    <tr>\n",
       "      <th>13</th>\n",
       "      <td>18.011528</td>\n",
       "      <td>17.312851</td>\n",
       "    </tr>\n",
       "    <tr>\n",
       "      <th>14</th>\n",
       "      <td>16.803150</td>\n",
       "      <td>19.451902</td>\n",
       "    </tr>\n",
       "    <tr>\n",
       "      <th>15</th>\n",
       "      <td>15.558512</td>\n",
       "      <td>19.837332</td>\n",
       "    </tr>\n",
       "    <tr>\n",
       "      <th>16</th>\n",
       "      <td>15.105622</td>\n",
       "      <td>20.993320</td>\n",
       "    </tr>\n",
       "    <tr>\n",
       "      <th>17</th>\n",
       "      <td>13.685111</td>\n",
       "      <td>19.250078</td>\n",
       "    </tr>\n",
       "    <tr>\n",
       "      <th>18</th>\n",
       "      <td>14.434177</td>\n",
       "      <td>20.214764</td>\n",
       "    </tr>\n",
       "    <tr>\n",
       "      <th>19</th>\n",
       "      <td>14.287322</td>\n",
       "      <td>21.062630</td>\n",
       "    </tr>\n",
       "    <tr>\n",
       "      <th>20</th>\n",
       "      <td>13.629799</td>\n",
       "      <td>24.955507</td>\n",
       "    </tr>\n",
       "  </tbody>\n",
       "</table>\n",
       "</div>"
      ],
      "text/plain": [
       "              train_loss   val_loss\n",
       "epoch_number                       \n",
       "1             254.785298  26.234262\n",
       "2              93.896975  19.609294\n",
       "3              68.241224  18.359201\n",
       "4              51.688329  14.683484\n",
       "5              42.620602  14.904615\n",
       "6              36.798973  14.375626\n",
       "7              31.337769  16.763377\n",
       "8              26.803078  17.047308\n",
       "9              26.533169  13.870102\n",
       "10             21.701814  17.565438\n",
       "11             21.552272  14.988093\n",
       "12             18.480282  17.843822\n",
       "13             18.011528  17.312851\n",
       "14             16.803150  19.451902\n",
       "15             15.558512  19.837332\n",
       "16             15.105622  20.993320\n",
       "17             13.685111  19.250078\n",
       "18             14.434177  20.214764\n",
       "19             14.287322  21.062630\n",
       "20             13.629799  24.955507"
      ]
     },
     "metadata": {},
     "output_type": "display_data"
    }
   ],
   "source": [
    "training_summary = {\n",
    "    'epoch_number': [],\n",
    "    'train_loss': [],\n",
    "    'val_loss': []\n",
    "}\n",
    "\n",
    "min_epoch_val_loss = float('inf')\n",
    "\n",
    "for epoch_idx in range(num_epochs):\n",
    "    clear_output()\n",
    "    display(Markdown('**Training Summary**'))\n",
    "    display(pd.DataFrame.from_dict(training_summary).set_index('epoch_number'))\n",
    "\n",
    "    training_summary['epoch_number'].append(epoch_idx + 1)\n",
    "    \n",
    "    epoch_train_progress_bar = tqdm(total=num_train_batches, desc=f'Training epoch {epoch_idx + 1} of {num_epochs}: ', dynamic_ncols=True)\n",
    "    model.train()\n",
    "    epoch_train_loss = 0\n",
    "    for batch in train_dataloader:\n",
    "        batch_size = len(batch)\n",
    "        flattened_images, targets = batch\n",
    "        flattened_images = flattened_images.to(device)\n",
    "        targets = targets.to(device)\n",
    "        predicted = model(flattened_images)\n",
    "        \n",
    "        batch_train_loss = loss_function(predicted, targets)\n",
    "        epoch_train_loss += batch_train_loss.item()\n",
    "        batch_train_loss.backward()\n",
    "\n",
    "        optimizer.step()\n",
    "        optimizer.zero_grad()\n",
    "        \n",
    "        epoch_train_progress_bar.update(1)\n",
    "    epoch_train_progress_bar.close()\n",
    "    training_summary['train_loss'].append(epoch_train_loss)\n",
    "\n",
    "    epoch_val_progress_bar = tqdm(total=num_val_batches, desc=f'Evaluating epoch {epoch_idx + 1} of {num_epochs}: ', dynamic_ncols=True)\n",
    "    model.eval()\n",
    "    epoch_val_loss = 0\n",
    "    for batch in val_dataloader:\n",
    "        batch_size = len(batch)\n",
    "        flattened_images, targets = batch\n",
    "        flattened_images = flattened_images.to(device)\n",
    "        targets = targets.to(device)\n",
    "        \n",
    "        predicted = model(flattened_images)\n",
    "        \n",
    "        batch_val_loss = loss_function(predicted, targets)\n",
    "        epoch_val_loss += batch_val_loss.item()\n",
    "\n",
    "        epoch_val_progress_bar.update(1)\n",
    "    epoch_val_progress_bar.close()\n",
    "    training_summary['val_loss'].append(epoch_val_loss)\n",
    "\n",
    "    torch.save(model.state_dict(), os.path.join(models_output_folder_path, f'epoch_{str(epoch_idx + 1).zfill(2)}.pt'))\n",
    "    if epoch_val_loss < min_epoch_val_loss:\n",
    "        torch.save(model.state_dict(), os.path.join(models_output_folder_path, 'least_val_loss.pt'))\n",
    "\n",
    "clear_output()\n",
    "training_summary = pd.DataFrame.from_dict(training_summary).set_index('epoch_number')\n",
    "training_summary.to_csv(os.path.join(models_output_folder_path, 'training_summary.csv'), index=True)\n",
    "display(Markdown('**Training Summary**'))\n",
    "display(training_summary)"
   ]
  },
  {
   "cell_type": "markdown",
   "id": "64307d8c-f1d1-43c1-9389-8942dd0af265",
   "metadata": {},
   "source": [
    "# Testing"
   ]
  },
  {
   "cell_type": "markdown",
   "id": "cc0bda96-29cf-4d2d-a26c-f5b16b14b340",
   "metadata": {},
   "source": [
    "## Defining hyper-parameters for testing"
   ]
  },
  {
   "cell_type": "code",
   "execution_count": 10,
   "id": "830ae4b3-1675-413a-b2fa-d644cf2cd8e0",
   "metadata": {},
   "outputs": [],
   "source": [
    "test_batch_size = 100"
   ]
  },
  {
   "cell_type": "markdown",
   "id": "a7663345-25f1-431a-b519-247168c1a8ed",
   "metadata": {},
   "source": [
    "## Loading & preparing dataset"
   ]
  },
  {
   "cell_type": "code",
   "execution_count": 11,
   "id": "85c8efd1-b092-44c0-9fb0-c20b898c1126",
   "metadata": {},
   "outputs": [],
   "source": [
    "test_dataset = MNIST(train=False)\n",
    "num_instances_in_test_dataset = len(test_dataset)\n",
    "\n",
    "num_test_batches = math.ceil(len(test_dataset) / test_batch_size)\n",
    "test_dataloader = DataLoader(test_dataset, batch_size=test_batch_size)"
   ]
  },
  {
   "cell_type": "markdown",
   "id": "d73e4694-a9b7-415b-be49-652e868155ba",
   "metadata": {},
   "source": [
    "## Loading & preparing model for testing"
   ]
  },
  {
   "cell_type": "code",
   "execution_count": 12,
   "id": "668cfe8f-4329-42e1-b325-9c87f73f3c04",
   "metadata": {},
   "outputs": [],
   "source": [
    "device = 'cuda' if torch.cuda.is_available() else 'cpu'"
   ]
  },
  {
   "cell_type": "code",
   "execution_count": 13,
   "id": "b5a09cdf-261b-47e4-849e-58c66aa88411",
   "metadata": {},
   "outputs": [
    {
     "data": {
      "text/plain": [
       "MultiLayeredPerceptron(\n",
       "  (linear_0): Linear(in_features=784, out_features=512, bias=True)\n",
       "  (dropout_0): Dropout(p=0.2, inplace=False)\n",
       "  (relu_0): ReLU(inplace=True)\n",
       "  (linear_1): Linear(in_features=512, out_features=512, bias=True)\n",
       "  (dropout_1): Dropout(p=0.2, inplace=False)\n",
       "  (relu_1): ReLU(inplace=True)\n",
       "  (linear_2): Linear(in_features=512, out_features=512, bias=True)\n",
       "  (dropout_2): Dropout(p=0.2, inplace=False)\n",
       "  (relu_2): ReLU(inplace=True)\n",
       "  (output): Linear(in_features=512, out_features=10, bias=True)\n",
       ")"
      ]
     },
     "execution_count": 13,
     "metadata": {},
     "output_type": "execute_result"
    }
   ],
   "source": [
    "model = MultiLayeredPerceptron()\n",
    "model.load_state_dict(torch.load(os.path.join(models_output_folder_path, 'least_val_loss.pt'), weights_only=True))\n",
    "model.to(device)\n",
    "model.eval()"
   ]
  },
  {
   "cell_type": "markdown",
   "id": "6342b09f-8414-45a0-8798-4dfb70d2cc87",
   "metadata": {},
   "source": [
    "## Predicting"
   ]
  },
  {
   "cell_type": "code",
   "execution_count": 14,
   "id": "50331897-0f2c-40a0-ab7f-0eef46f97b7d",
   "metadata": {},
   "outputs": [],
   "source": [
    "actual_labels = []\n",
    "predicted_scores = []\n",
    "predicted_labels = []\n",
    "\n",
    "test_dataset_evaluation_progress_bar = tqdm(total=num_test_batches, desc='Evaluating', dynamic_ncols=False)\n",
    "for batch in test_dataloader:\n",
    "    images, targets = batch\n",
    "    images = images.to(device)\n",
    "    targets = targets.to(device)\n",
    "    \n",
    "    batch_actual_labels = torch.argmax(targets, dim=-1)\n",
    "    actual_labels += batch_actual_labels.cpu().detach().numpy().tolist()\n",
    "\n",
    "    predictions = model(images)\n",
    "    batch_predicted_scores = F.softmax(predictions, dim=-1)\n",
    "    batch_predicted_labels = torch.argmax(batch_predicted_scores, dim=-1)\n",
    "    predicted_scores += batch_predicted_scores.cpu().detach().numpy().tolist()\n",
    "    predicted_labels += batch_predicted_labels.cpu().detach().numpy().tolist()\n",
    "\n",
    "    test_dataset_evaluation_progress_bar.update(1)\n",
    "\n",
    "test_dataset_evaluation_progress_bar.close()\n",
    "clear_output()"
   ]
  },
  {
   "cell_type": "markdown",
   "id": "de9f2c32-42e5-49e3-bc93-e7afa0baa57f",
   "metadata": {},
   "source": [
    "## Computing metrics"
   ]
  },
  {
   "cell_type": "code",
   "execution_count": 15,
   "id": "3ce7e85d-d175-44ac-b71c-2e50d1c58fe3",
   "metadata": {},
   "outputs": [
    {
     "name": "stdout",
     "output_type": "stream",
     "text": [
      "Accuracy: 0.981\n"
     ]
    }
   ],
   "source": [
    "accuracy = 0\n",
    "for actual_label, predicted_label in zip(actual_labels, predicted_labels):\n",
    "    if actual_label == predicted_label:\n",
    "        accuracy += 1\n",
    "accuracy /= len(test_dataset)\n",
    "print(f'Accuracy: {accuracy}')"
   ]
  },
  {
   "cell_type": "code",
   "execution_count": 16,
   "id": "d768b517-a749-44d0-8ade-fb83010bf245",
   "metadata": {},
   "outputs": [
    {
     "data": {
      "text/markdown": [
       "* Average precision: 0.98117\n",
       "* Average recall: 0.98079\n",
       "* Average f1: 0.98089"
      ],
      "text/plain": [
       "<IPython.core.display.Markdown object>"
      ]
     },
     "metadata": {},
     "output_type": "display_data"
    },
    {
     "data": {
      "text/html": [
       "<div>\n",
       "<style scoped>\n",
       "    .dataframe tbody tr th:only-of-type {\n",
       "        vertical-align: middle;\n",
       "    }\n",
       "\n",
       "    .dataframe tbody tr th {\n",
       "        vertical-align: top;\n",
       "    }\n",
       "\n",
       "    .dataframe thead th {\n",
       "        text-align: right;\n",
       "    }\n",
       "</style>\n",
       "<table border=\"1\" class=\"dataframe\">\n",
       "  <thead>\n",
       "    <tr style=\"text-align: right;\">\n",
       "      <th></th>\n",
       "      <th>precision</th>\n",
       "      <th>recall</th>\n",
       "      <th>f1</th>\n",
       "    </tr>\n",
       "    <tr>\n",
       "      <th>label</th>\n",
       "      <th></th>\n",
       "      <th></th>\n",
       "      <th></th>\n",
       "    </tr>\n",
       "  </thead>\n",
       "  <tbody>\n",
       "    <tr>\n",
       "      <th>T-Shirt</th>\n",
       "      <td>0.981818</td>\n",
       "      <td>0.991837</td>\n",
       "      <td>0.986802</td>\n",
       "    </tr>\n",
       "    <tr>\n",
       "      <th>Trouser</th>\n",
       "      <td>0.990325</td>\n",
       "      <td>0.992070</td>\n",
       "      <td>0.991197</td>\n",
       "    </tr>\n",
       "    <tr>\n",
       "      <th>Pullover</th>\n",
       "      <td>0.986395</td>\n",
       "      <td>0.983527</td>\n",
       "      <td>0.984959</td>\n",
       "    </tr>\n",
       "    <tr>\n",
       "      <th>Dress</th>\n",
       "      <td>0.979290</td>\n",
       "      <td>0.983168</td>\n",
       "      <td>0.981225</td>\n",
       "    </tr>\n",
       "    <tr>\n",
       "      <th>Coat</th>\n",
       "      <td>0.976768</td>\n",
       "      <td>0.984725</td>\n",
       "      <td>0.980730</td>\n",
       "    </tr>\n",
       "    <tr>\n",
       "      <th>Sandal</th>\n",
       "      <td>0.984270</td>\n",
       "      <td>0.982063</td>\n",
       "      <td>0.983165</td>\n",
       "    </tr>\n",
       "    <tr>\n",
       "      <th>Shirt</th>\n",
       "      <td>0.994692</td>\n",
       "      <td>0.978079</td>\n",
       "      <td>0.986316</td>\n",
       "    </tr>\n",
       "    <tr>\n",
       "      <th>Sneaker</th>\n",
       "      <td>0.978599</td>\n",
       "      <td>0.978599</td>\n",
       "      <td>0.978599</td>\n",
       "    </tr>\n",
       "    <tr>\n",
       "      <th>Bag</th>\n",
       "      <td>0.989293</td>\n",
       "      <td>0.948665</td>\n",
       "      <td>0.968553</td>\n",
       "    </tr>\n",
       "    <tr>\n",
       "      <th>Ankle Boot</th>\n",
       "      <td>0.950287</td>\n",
       "      <td>0.985134</td>\n",
       "      <td>0.967397</td>\n",
       "    </tr>\n",
       "  </tbody>\n",
       "</table>\n",
       "</div>"
      ],
      "text/plain": [
       "            precision    recall        f1\n",
       "label                                    \n",
       "T-Shirt      0.981818  0.991837  0.986802\n",
       "Trouser      0.990325  0.992070  0.991197\n",
       "Pullover     0.986395  0.983527  0.984959\n",
       "Dress        0.979290  0.983168  0.981225\n",
       "Coat         0.976768  0.984725  0.980730\n",
       "Sandal       0.984270  0.982063  0.983165\n",
       "Shirt        0.994692  0.978079  0.986316\n",
       "Sneaker      0.978599  0.978599  0.978599\n",
       "Bag          0.989293  0.948665  0.968553\n",
       "Ankle Boot   0.950287  0.985134  0.967397"
      ]
     },
     "metadata": {},
     "output_type": "display_data"
    }
   ],
   "source": [
    "precision, recall, f1, support = precision_recall_fscore_support(actual_labels, predicted_labels, labels=list(range(10)), average=None)\n",
    "metrics_table = {\n",
    "    'label': [],\n",
    "    'precision': [],\n",
    "    'recall': [],\n",
    "    'f1': []\n",
    "}\n",
    "for label_idx, (precision_value, recall_value, f1_value) in enumerate(zip(precision, recall, f1)):\n",
    "    metrics_table['label'].append(FashionMNIST.LABEL_MAP[label_idx])\n",
    "    metrics_table['precision'].append(precision_value)\n",
    "    metrics_table['recall'].append(recall_value)\n",
    "    metrics_table['f1'].append(f1_value)\n",
    "\n",
    "metrics_table = pd.DataFrame.from_dict(metrics_table).set_index('label')\n",
    "average_precision = metrics_table['precision'].mean()\n",
    "average_recall = metrics_table['recall'].mean()\n",
    "average_f1 = metrics_table['f1'].mean()\n",
    "display(\n",
    "    Markdown(\n",
    "        f'* Average precision: {round(average_precision, 5)}' + '\\n' + \\\n",
    "        f'* Average recall: {round(average_recall, 5)}' + '\\n' + \\\n",
    "        f'* Average f1: {round(average_f1, 5)}'\n",
    "    )\n",
    ")\n",
    "\n",
    "metrics_table.to_csv(os.path.join(models_output_folder_path, 'metrics_table.csv'), index=True)\n",
    "display(metrics_table)"
   ]
  },
  {
   "cell_type": "code",
   "execution_count": 17,
   "id": "a22bf150-e278-48ef-851d-e366f010e846",
   "metadata": {},
   "outputs": [
    {
     "data": {
      "image/png": "[encoded data removed]",
      "text/plain": [
       "<Figure size 1000x1000 with 2 Axes>"
      ]
     },
     "metadata": {},
     "output_type": "display_data"
    }
   ],
   "source": [
    "confusion_matrix = cm(actual_labels, predicted_labels)\n",
    "\n",
    "pd.DataFrame(\n",
    "    data=confusion_matrix,\n",
    "    index=list(range(10)),\n",
    "    columns=list(range(10))\n",
    ").to_csv(os.path.join(models_output_folder_path, 'confusion_matrix.csv'), index=True)\n",
    "\n",
    "plt.figure(num='Confusion Matrix', figsize=(10, 10))\n",
    "plt.matshow(confusion_matrix, cmap='summer', fignum=0)\n",
    "plt.xlabel('Predicted')\n",
    "plt.ylabel('Actual')\n",
    "plt.xticks(list(range(10)), [FashionMNIST.LABEL_MAP[label_idx] for label_idx in range(10)], rotation=90)\n",
    "plt.yticks(list(range(10)), [FashionMNIST.LABEL_MAP[label_idx] for label_idx in range(10)])\n",
    "for (i, j), value in np.ndenumerate(confusion_matrix):\n",
    "    plt.text(j, i, value, ha='center', va='center')\n",
    "plt.colorbar()\n",
    "plt.tight_layout()\n",
    "plt.savefig(os.path.join(models_output_folder_path, 'confusion_matrix.png'), format='png')\n",
    "plt.show()"
   ]
  },
  {
   "cell_type": "code",
   "execution_count": null,
   "id": "349de5ce-6b07-411e-a8e0-89d6daa326c3",
   "metadata": {},
   "outputs": [],
   "source": []
  }
 ],
 "metadata": {
  "kernelspec": {
   "display_name": "Python 3 (ipykernel)",
   "language": "python",
   "name": "python3"
  },
  "language_info": {
   "codemirror_mode": {
    "name": "ipython",
    "version": 3
   },
   "file_extension": ".py",
   "mimetype": "text/x-python",
   "name": "python",
   "nbconvert_exporter": "python",
   "pygments_lexer": "ipython3",
   "version": "3.12.6"
  }
 },
 "nbformat": 4,
 "nbformat_minor": 5
}
