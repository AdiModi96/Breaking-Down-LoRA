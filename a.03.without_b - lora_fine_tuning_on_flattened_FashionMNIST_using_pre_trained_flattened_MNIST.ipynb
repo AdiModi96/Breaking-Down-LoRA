{
 "cells": [
  {
   "cell_type": "code",
   "execution_count": 1,
   "id": "6fd56305-10a6-443d-952c-a6ef554a6a82",
   "metadata": {},
   "outputs": [],
   "source": [
    "import os\n",
    "import math\n",
    "import numpy as np\n",
    "import pandas as pd\n",
    "import torch\n",
    "from torch.utils.data import DataLoader, random_split\n",
    "from torch import nn, optim\n",
    "from torch.nn import functional as F\n",
    "from tqdm.auto import tqdm\n",
    "from models import MultiLayeredPerceptron\n",
    "from lora_models import LoRAModel\n",
    "from flattened_datasets import MNIST, FashionMNIST\n",
    "import project_paths as pp\n",
    "from IPython.display import display, HTML, Markdown, clear_output\n",
    "from sklearn.metrics import confusion_matrix as cm, precision_recall_fscore_support\n",
    "from matplotlib import pyplot as plt"
   ]
  },
  {
   "cell_type": "markdown",
   "id": "3a946bc5-40e1-4871-9548-120253b87794",
   "metadata": {},
   "source": [
    "# Testing (prior to full fine-tuning)\n",
    "Taking the pre-trained model on MNIST and checking it's performance on FashionMNIST"
   ]
  },
  {
   "cell_type": "markdown",
   "id": "378370ac-eb8b-4290-8907-5addc902deab",
   "metadata": {},
   "source": [
    "## Defining hyper-parameters for testing"
   ]
  },
  {
   "cell_type": "code",
   "execution_count": 2,
   "id": "aa14b017-b0e3-4984-96dc-4318f58fe9b3",
   "metadata": {},
   "outputs": [],
   "source": [
    "test_batch_size = 100"
   ]
  },
  {
   "cell_type": "markdown",
   "id": "18b531c8-afc6-49c0-a131-8a011fd78121",
   "metadata": {},
   "source": [
    "## Loading & preparing dataset"
   ]
  },
  {
   "cell_type": "code",
   "execution_count": 3,
   "id": "283a9e1a-8ed6-49d9-9758-4cf78f210d2d",
   "metadata": {},
   "outputs": [],
   "source": [
    "test_dataset = FashionMNIST(train=False)\n",
    "num_instances_in_test_dataset = len(test_dataset)\n",
    "\n",
    "num_test_batches = math.ceil(len(test_dataset) / test_batch_size)\n",
    "test_dataloader = DataLoader(test_dataset, batch_size=test_batch_size)"
   ]
  },
  {
   "cell_type": "markdown",
   "id": "9e4e9635-2a0a-4d6e-be83-120159af4494",
   "metadata": {},
   "source": [
    "## Loading & preparing model for testing"
   ]
  },
  {
   "cell_type": "code",
   "execution_count": 4,
   "id": "9eeda9ee-2240-4063-8547-0402e9d806ec",
   "metadata": {},
   "outputs": [],
   "source": [
    "device = 'cuda' if torch.cuda.is_available() else 'cpu'"
   ]
  },
  {
   "cell_type": "code",
   "execution_count": 5,
   "id": "bf350b7f-c9df-45d1-a5ff-45dab427cf70",
   "metadata": {},
   "outputs": [
    {
     "data": {
      "text/plain": [
       "MultiLayeredPerceptron(\n",
       "  (linear_0): Linear(in_features=784, out_features=512, bias=True)\n",
       "  (dropout_0): Dropout(p=0.2, inplace=False)\n",
       "  (relu_0): ReLU(inplace=True)\n",
       "  (linear_1): Linear(in_features=512, out_features=512, bias=True)\n",
       "  (dropout_1): Dropout(p=0.2, inplace=False)\n",
       "  (relu_1): ReLU(inplace=True)\n",
       "  (linear_2): Linear(in_features=512, out_features=512, bias=True)\n",
       "  (dropout_2): Dropout(p=0.2, inplace=False)\n",
       "  (relu_2): ReLU(inplace=True)\n",
       "  (output): Linear(in_features=512, out_features=10, bias=True)\n",
       ")"
      ]
     },
     "execution_count": 5,
     "metadata": {},
     "output_type": "execute_result"
    }
   ],
   "source": [
    "pre_trained_model = MultiLayeredPerceptron()\n",
    "pre_trained_model_folder_path = os.path.join(pp.models_folder_path, 'mlp', 'flattened_MNIST', 'pre_trained', 'least_val_loss.pt')\n",
    "pre_trained_model.load_state_dict(torch.load(pre_trained_model_folder_path, weights_only=True))\n",
    "pre_trained_model.to(device)\n",
    "pre_trained_model.eval()"
   ]
  },
  {
   "cell_type": "markdown",
   "id": "6031c684-d931-4d12-ae1f-57b969907ad4",
   "metadata": {},
   "source": [
    "## Predicting"
   ]
  },
  {
   "cell_type": "code",
   "execution_count": 6,
   "id": "2557e73a-cfd0-4c93-ae22-cf16dce29b97",
   "metadata": {},
   "outputs": [],
   "source": [
    "actual_labels = []\n",
    "predicted_scores = []\n",
    "predicted_labels = []\n",
    "\n",
    "test_dataset_evaluation_progress_bar = tqdm(total=num_test_batches, desc='Evaluating', dynamic_ncols=False)\n",
    "for batch in test_dataloader:\n",
    "    images, targets = batch\n",
    "    images = images.to(device)\n",
    "    targets = targets.to(device)\n",
    "    \n",
    "    batch_actual_labels = torch.argmax(targets, dim=-1)\n",
    "    actual_labels += batch_actual_labels.cpu().detach().numpy().tolist()\n",
    "\n",
    "    predictions = pre_trained_model(images)\n",
    "    batch_predicted_scores = F.softmax(predictions, dim=-1)\n",
    "    batch_predicted_labels = torch.argmax(batch_predicted_scores, dim=-1)\n",
    "    predicted_scores += batch_predicted_scores.cpu().detach().numpy().tolist()\n",
    "    predicted_labels += batch_predicted_labels.cpu().detach().numpy().tolist()\n",
    "\n",
    "    test_dataset_evaluation_progress_bar.update(1)\n",
    "\n",
    "test_dataset_evaluation_progress_bar.close()\n",
    "clear_output()"
   ]
  },
  {
   "cell_type": "markdown",
   "id": "7587b3f0-d3e6-439a-b268-93b08f579449",
   "metadata": {},
   "source": [
    "## Computing metrics"
   ]
  },
  {
   "cell_type": "code",
   "execution_count": 7,
   "id": "966d2b5f-b6e3-4e80-b76d-f63dc0cd5d88",
   "metadata": {},
   "outputs": [
    {
     "name": "stdout",
     "output_type": "stream",
     "text": [
      "Accuracy: 0.0933\n"
     ]
    }
   ],
   "source": [
    "accuracy = 0\n",
    "for actual_label, predicted_label in zip(actual_labels, predicted_labels):\n",
    "    if actual_label == predicted_label:\n",
    "        accuracy += 1\n",
    "accuracy /= len(test_dataset)\n",
    "print(f'Accuracy: {accuracy}')"
   ]
  },
  {
   "cell_type": "code",
   "execution_count": 8,
   "id": "dd6906f8-e204-41eb-a3a3-4a1977529bd2",
   "metadata": {},
   "outputs": [
    {
     "data": {
      "text/markdown": [
       "* Average precision: 0.23265\n",
       "* Average recall: 0.0933\n",
       "* Average f1: 0.05211"
      ],
      "text/plain": [
       "<IPython.core.display.Markdown object>"
      ]
     },
     "metadata": {},
     "output_type": "display_data"
    },
    {
     "data": {
      "text/html": [
       "<div>\n",
       "<style scoped>\n",
       "    .dataframe tbody tr th:only-of-type {\n",
       "        vertical-align: middle;\n",
       "    }\n",
       "\n",
       "    .dataframe tbody tr th {\n",
       "        vertical-align: top;\n",
       "    }\n",
       "\n",
       "    .dataframe thead th {\n",
       "        text-align: right;\n",
       "    }\n",
       "</style>\n",
       "<table border=\"1\" class=\"dataframe\">\n",
       "  <thead>\n",
       "    <tr style=\"text-align: right;\">\n",
       "      <th></th>\n",
       "      <th>precision</th>\n",
       "      <th>recall</th>\n",
       "      <th>f1</th>\n",
       "    </tr>\n",
       "    <tr>\n",
       "      <th>label</th>\n",
       "      <th></th>\n",
       "      <th></th>\n",
       "      <th></th>\n",
       "    </tr>\n",
       "  </thead>\n",
       "  <tbody>\n",
       "    <tr>\n",
       "      <th>T-Shirt</th>\n",
       "      <td>0.025210</td>\n",
       "      <td>0.009</td>\n",
       "      <td>0.013265</td>\n",
       "    </tr>\n",
       "    <tr>\n",
       "      <th>Trouser</th>\n",
       "      <td>1.000000</td>\n",
       "      <td>0.001</td>\n",
       "      <td>0.001998</td>\n",
       "    </tr>\n",
       "    <tr>\n",
       "      <th>Pullover</th>\n",
       "      <td>0.020386</td>\n",
       "      <td>0.074</td>\n",
       "      <td>0.031965</td>\n",
       "    </tr>\n",
       "    <tr>\n",
       "      <th>Dress</th>\n",
       "      <td>0.571429</td>\n",
       "      <td>0.036</td>\n",
       "      <td>0.067733</td>\n",
       "    </tr>\n",
       "    <tr>\n",
       "      <th>Coat</th>\n",
       "      <td>0.042553</td>\n",
       "      <td>0.002</td>\n",
       "      <td>0.003820</td>\n",
       "    </tr>\n",
       "    <tr>\n",
       "      <th>Sandal</th>\n",
       "      <td>0.448276</td>\n",
       "      <td>0.065</td>\n",
       "      <td>0.113537</td>\n",
       "    </tr>\n",
       "    <tr>\n",
       "      <th>Shirt</th>\n",
       "      <td>0.151848</td>\n",
       "      <td>0.719</td>\n",
       "      <td>0.250741</td>\n",
       "    </tr>\n",
       "    <tr>\n",
       "      <th>Sneaker</th>\n",
       "      <td>0.056561</td>\n",
       "      <td>0.025</td>\n",
       "      <td>0.034674</td>\n",
       "    </tr>\n",
       "    <tr>\n",
       "      <th>Bag</th>\n",
       "      <td>0.010204</td>\n",
       "      <td>0.002</td>\n",
       "      <td>0.003344</td>\n",
       "    </tr>\n",
       "    <tr>\n",
       "      <th>Ankle Boot</th>\n",
       "      <td>0.000000</td>\n",
       "      <td>0.000</td>\n",
       "      <td>0.000000</td>\n",
       "    </tr>\n",
       "  </tbody>\n",
       "</table>\n",
       "</div>"
      ],
      "text/plain": [
       "            precision  recall        f1\n",
       "label                                  \n",
       "T-Shirt      0.025210   0.009  0.013265\n",
       "Trouser      1.000000   0.001  0.001998\n",
       "Pullover     0.020386   0.074  0.031965\n",
       "Dress        0.571429   0.036  0.067733\n",
       "Coat         0.042553   0.002  0.003820\n",
       "Sandal       0.448276   0.065  0.113537\n",
       "Shirt        0.151848   0.719  0.250741\n",
       "Sneaker      0.056561   0.025  0.034674\n",
       "Bag          0.010204   0.002  0.003344\n",
       "Ankle Boot   0.000000   0.000  0.000000"
      ]
     },
     "metadata": {},
     "output_type": "display_data"
    }
   ],
   "source": [
    "precision, recall, f1, support = precision_recall_fscore_support(actual_labels, predicted_labels, labels=list(range(10)), average=None)\n",
    "metrics_table = {\n",
    "    'label': [],\n",
    "    'precision': [],\n",
    "    'recall': [],\n",
    "    'f1': []\n",
    "}\n",
    "for label_idx, (precision_value, recall_value, f1_value) in enumerate(zip(precision, recall, f1)):\n",
    "    metrics_table['label'].append(FashionMNIST.LABEL_MAP[label_idx])\n",
    "    metrics_table['precision'].append(precision_value)\n",
    "    metrics_table['recall'].append(recall_value)\n",
    "    metrics_table['f1'].append(f1_value)\n",
    "\n",
    "metrics_table = pd.DataFrame.from_dict(metrics_table).set_index('label')\n",
    "average_precision = metrics_table['precision'].mean()\n",
    "average_recall = metrics_table['recall'].mean()\n",
    "average_f1 = metrics_table['f1'].mean()\n",
    "display(\n",
    "    Markdown(\n",
    "        f'* Average precision: {round(average_precision, 5)}' + '\\n' + \\\n",
    "        f'* Average recall: {round(average_recall, 5)}' + '\\n' + \\\n",
    "        f'* Average f1: {round(average_f1, 5)}'\n",
    "    )\n",
    ")\n",
    "display(metrics_table)"
   ]
  },
  {
   "cell_type": "code",
   "execution_count": 9,
   "id": "a2b0965f-17c8-42ae-bb92-3d72a1374213",
   "metadata": {},
   "outputs": [
    {
     "data": {
      "image/png": "[encoded data removed]",
      "text/plain": [
       "<Figure size 1000x1000 with 2 Axes>"
      ]
     },
     "metadata": {},
     "output_type": "display_data"
    }
   ],
   "source": [
    "confusion_matrix = cm(actual_labels, predicted_labels)\n",
    "\n",
    "plt.figure(num='Confusion Matrix', figsize=(10, 10))\n",
    "plt.matshow(confusion_matrix, cmap='summer', fignum=0)\n",
    "plt.xlabel('Predicted')\n",
    "plt.ylabel('Actual')\n",
    "plt.xticks(list(range(10)), [FashionMNIST.LABEL_MAP[label_idx] for label_idx in range(10)], rotation=90)\n",
    "plt.yticks(list(range(10)), [FashionMNIST.LABEL_MAP[label_idx] for label_idx in range(10)])\n",
    "for (i, j), value in np.ndenumerate(confusion_matrix):\n",
    "    plt.text(j, i, value, ha='center', va='center')\n",
    "plt.colorbar()\n",
    "plt.tight_layout()\n",
    "plt.show()"
   ]
  },
  {
   "cell_type": "markdown",
   "id": "40ae3b59-9907-42fe-bb23-bdf5e5e034d8",
   "metadata": {},
   "source": [
    "# LoRA Fine-tuning"
   ]
  },
  {
   "cell_type": "markdown",
   "id": "23bddccd-189b-4f52-a99f-bc53be78c1a4",
   "metadata": {},
   "source": [
    "## Defining hyper-parameters for LoRA fine-tuning"
   ]
  },
  {
   "cell_type": "code",
   "execution_count": 10,
   "id": "7ad2cebe-72ef-438c-b5f4-b0df98d0427b",
   "metadata": {},
   "outputs": [],
   "source": [
    "num_epochs = 20\n",
    "train_batch_size = 64\n",
    "val_batch_size = 64\n",
    "learning_rate = 5e-4\n",
    "betas = (0.9, 0.98)"
   ]
  },
  {
   "cell_type": "markdown",
   "id": "4ab6cd65-b862-4edc-aa53-63d2b0d4a90f",
   "metadata": {},
   "source": [
    "## Loading & preparing datasets"
   ]
  },
  {
   "cell_type": "code",
   "execution_count": 11,
   "id": "2d6b3249-37d4-4049-960f-fe97f2752c93",
   "metadata": {},
   "outputs": [],
   "source": [
    "dataset = FashionMNIST(train=True)\n",
    "\n",
    "train_dataset_frac = 0.8\n",
    "num_instances_in_train_dataset = int(len(dataset) * train_dataset_frac)\n",
    "num_instances_in_val_dataset = len(dataset) - num_instances_in_train_dataset\n",
    "train_dataset, val_dataset = random_split(\n",
    "    dataset,\n",
    "    [num_instances_in_train_dataset, num_instances_in_val_dataset],\n",
    "    generator=torch.Generator().manual_seed(1618)\n",
    ")\n",
    "\n",
    "num_train_batches = math.ceil(len(train_dataset) / train_batch_size)\n",
    "train_dataloader = DataLoader(train_dataset, batch_size=train_batch_size, shuffle=True)\n",
    "\n",
    "num_val_batches = math.ceil(len(val_dataset) / val_batch_size)\n",
    "val_dataloader = DataLoader(val_dataset, batch_size=val_batch_size, shuffle=True)"
   ]
  },
  {
   "cell_type": "markdown",
   "id": "8b60deef-44ad-42f8-821c-61025fb0a5ec",
   "metadata": {},
   "source": [
    "## Loading model and preparing it for training"
   ]
  },
  {
   "cell_type": "code",
   "execution_count": 12,
   "id": "258241f2-241b-4109-801d-cc3894a8ff91",
   "metadata": {},
   "outputs": [],
   "source": [
    "device = 'cuda' if torch.cuda.is_available() else 'cpu'"
   ]
  },
  {
   "cell_type": "code",
   "execution_count": 13,
   "id": "db733490-dbdd-43b5-b53a-a9c75d2b43ad",
   "metadata": {},
   "outputs": [
    {
     "data": {
      "text/plain": [
       "<torch._C.Generator at 0x143200f8c70>"
      ]
     },
     "execution_count": 13,
     "metadata": {},
     "output_type": "execute_result"
    }
   ],
   "source": [
    "torch.manual_seed(0)"
   ]
  },
  {
   "cell_type": "code",
   "execution_count": 14,
   "id": "64c1f291-ba4b-4189-ac20-2864c41510eb",
   "metadata": {},
   "outputs": [],
   "source": [
    "pre_trained_model = MultiLayeredPerceptron()\n",
    "pre_trained_model_folder_path = os.path.join(pp.models_folder_path, 'mlp', 'flattened_MNIST', 'pre_trained', 'least_val_loss.pt')\n",
    "pre_trained_model.load_state_dict(torch.load(pre_trained_model_folder_path, weights_only=True))\n",
    "\n",
    "lora_config = {\n",
    "    'linear_*': {\n",
    "        'alpha': 8,\n",
    "        'rank': 8,\n",
    "        'delta_bias': False\n",
    "    },\n",
    "    'output': {\n",
    "        'alpha': 8,\n",
    "        'rank': 8,\n",
    "        'delta_bias': False\n",
    "    }\n",
    "}\n",
    "lora_model = LoRAModel(pre_trained_model, lora_config)\n",
    "lora_model.to(device)\n",
    "\n",
    "loss_function = nn.CrossEntropyLoss()\n",
    "optimizer = optim.Adam(lora_model.parameters(), lr=learning_rate, betas=betas)"
   ]
  },
  {
   "cell_type": "code",
   "execution_count": 15,
   "id": "276abc0d-363c-4681-b40d-24e57ddcb8c2",
   "metadata": {},
   "outputs": [
    {
     "name": "stdout",
     "output_type": "stream",
     "text": [
      "Total parameters: 963298\n",
      "Total trainable parameters: 30928\n",
      "Total non-trainable parameters: 932370\n"
     ]
    }
   ],
   "source": [
    "total_parameters = 0\n",
    "num_trainable_parameters = 0\n",
    "num_non_trainable_parameters = 0\n",
    "for parameter in lora_model.parameters():\n",
    "    num_parameters = parameter.numel()\n",
    "    total_parameters += num_parameters\n",
    "    if parameter.requires_grad:\n",
    "        num_trainable_parameters += num_parameters\n",
    "    else:\n",
    "        num_non_trainable_parameters += num_parameters\n",
    "\n",
    "print(f'Total parameters: {total_parameters}')\n",
    "print(f'Total trainable parameters: {num_trainable_parameters}')\n",
    "print(f'Total non-trainable parameters: {num_non_trainable_parameters}')"
   ]
  },
  {
   "cell_type": "code",
   "execution_count": 16,
   "id": "7defa480-2a5b-4688-837e-be6697bfea92",
   "metadata": {},
   "outputs": [],
   "source": [
    "models_output_folder_path = os.path.join(pp.models_folder_path, 'mlp', 'flattened_FashionMNIST', 'lora_fine_tuned_without_b')\n",
    "if not os.path.isdir(models_output_folder_path):\n",
    "    os.makedirs(models_output_folder_path)"
   ]
  },
  {
   "cell_type": "markdown",
   "id": "88ee6f47-d994-447d-8670-13550f500e5a",
   "metadata": {},
   "source": [
    "## Training"
   ]
  },
  {
   "cell_type": "code",
   "execution_count": 17,
   "id": "25b0c07a-a064-4f9e-bb53-32a1635367eb",
   "metadata": {},
   "outputs": [],
   "source": [
    "lora_model.enable_adapter()"
   ]
  },
  {
   "cell_type": "code",
   "execution_count": 18,
   "id": "977fe6bc-f9f2-44db-86c6-ef5729f6bb87",
   "metadata": {},
   "outputs": [
    {
     "data": {
      "text/markdown": [
       "**Training Summary**"
      ],
      "text/plain": [
       "<IPython.core.display.Markdown object>"
      ]
     },
     "metadata": {},
     "output_type": "display_data"
    },
    {
     "data": {
      "text/html": [
       "<div>\n",
       "<style scoped>\n",
       "    .dataframe tbody tr th:only-of-type {\n",
       "        vertical-align: middle;\n",
       "    }\n",
       "\n",
       "    .dataframe tbody tr th {\n",
       "        vertical-align: top;\n",
       "    }\n",
       "\n",
       "    .dataframe thead th {\n",
       "        text-align: right;\n",
       "    }\n",
       "</style>\n",
       "<table border=\"1\" class=\"dataframe\">\n",
       "  <thead>\n",
       "    <tr style=\"text-align: right;\">\n",
       "      <th></th>\n",
       "      <th>train_loss</th>\n",
       "      <th>val_loss</th>\n",
       "    </tr>\n",
       "    <tr>\n",
       "      <th>epoch_number</th>\n",
       "      <th></th>\n",
       "      <th></th>\n",
       "    </tr>\n",
       "  </thead>\n",
       "  <tbody>\n",
       "    <tr>\n",
       "      <th>1</th>\n",
       "      <td>4016.173760</td>\n",
       "      <td>119.795022</td>\n",
       "    </tr>\n",
       "    <tr>\n",
       "      <th>2</th>\n",
       "      <td>498.448837</td>\n",
       "      <td>94.654803</td>\n",
       "    </tr>\n",
       "    <tr>\n",
       "      <th>3</th>\n",
       "      <td>401.233864</td>\n",
       "      <td>82.790618</td>\n",
       "    </tr>\n",
       "    <tr>\n",
       "      <th>4</th>\n",
       "      <td>357.966993</td>\n",
       "      <td>77.842508</td>\n",
       "    </tr>\n",
       "    <tr>\n",
       "      <th>5</th>\n",
       "      <td>332.015236</td>\n",
       "      <td>73.582410</td>\n",
       "    </tr>\n",
       "    <tr>\n",
       "      <th>6</th>\n",
       "      <td>313.764767</td>\n",
       "      <td>72.062627</td>\n",
       "    </tr>\n",
       "    <tr>\n",
       "      <th>7</th>\n",
       "      <td>302.957650</td>\n",
       "      <td>69.843057</td>\n",
       "    </tr>\n",
       "    <tr>\n",
       "      <th>8</th>\n",
       "      <td>292.191409</td>\n",
       "      <td>67.767369</td>\n",
       "    </tr>\n",
       "    <tr>\n",
       "      <th>9</th>\n",
       "      <td>284.041653</td>\n",
       "      <td>67.315348</td>\n",
       "    </tr>\n",
       "    <tr>\n",
       "      <th>10</th>\n",
       "      <td>278.362593</td>\n",
       "      <td>65.761176</td>\n",
       "    </tr>\n",
       "    <tr>\n",
       "      <th>11</th>\n",
       "      <td>270.456916</td>\n",
       "      <td>65.081637</td>\n",
       "    </tr>\n",
       "    <tr>\n",
       "      <th>12</th>\n",
       "      <td>263.665927</td>\n",
       "      <td>63.949390</td>\n",
       "    </tr>\n",
       "    <tr>\n",
       "      <th>13</th>\n",
       "      <td>259.967611</td>\n",
       "      <td>67.022699</td>\n",
       "    </tr>\n",
       "    <tr>\n",
       "      <th>14</th>\n",
       "      <td>257.223242</td>\n",
       "      <td>62.469845</td>\n",
       "    </tr>\n",
       "    <tr>\n",
       "      <th>15</th>\n",
       "      <td>252.758812</td>\n",
       "      <td>61.981645</td>\n",
       "    </tr>\n",
       "    <tr>\n",
       "      <th>16</th>\n",
       "      <td>250.341549</td>\n",
       "      <td>61.273409</td>\n",
       "    </tr>\n",
       "    <tr>\n",
       "      <th>17</th>\n",
       "      <td>247.832861</td>\n",
       "      <td>62.585521</td>\n",
       "    </tr>\n",
       "    <tr>\n",
       "      <th>18</th>\n",
       "      <td>244.760016</td>\n",
       "      <td>62.030901</td>\n",
       "    </tr>\n",
       "    <tr>\n",
       "      <th>19</th>\n",
       "      <td>240.637034</td>\n",
       "      <td>61.822798</td>\n",
       "    </tr>\n",
       "    <tr>\n",
       "      <th>20</th>\n",
       "      <td>238.063676</td>\n",
       "      <td>61.015595</td>\n",
       "    </tr>\n",
       "  </tbody>\n",
       "</table>\n",
       "</div>"
      ],
      "text/plain": [
       "               train_loss    val_loss\n",
       "epoch_number                         \n",
       "1             4016.173760  119.795022\n",
       "2              498.448837   94.654803\n",
       "3              401.233864   82.790618\n",
       "4              357.966993   77.842508\n",
       "5              332.015236   73.582410\n",
       "6              313.764767   72.062627\n",
       "7              302.957650   69.843057\n",
       "8              292.191409   67.767369\n",
       "9              284.041653   67.315348\n",
       "10             278.362593   65.761176\n",
       "11             270.456916   65.081637\n",
       "12             263.665927   63.949390\n",
       "13             259.967611   67.022699\n",
       "14             257.223242   62.469845\n",
       "15             252.758812   61.981645\n",
       "16             250.341549   61.273409\n",
       "17             247.832861   62.585521\n",
       "18             244.760016   62.030901\n",
       "19             240.637034   61.822798\n",
       "20             238.063676   61.015595"
      ]
     },
     "metadata": {},
     "output_type": "display_data"
    }
   ],
   "source": [
    "training_summary = {\n",
    "    'epoch_number': [],\n",
    "    'train_loss': [],\n",
    "    'val_loss': []\n",
    "}\n",
    "\n",
    "min_epoch_val_loss = float('inf')\n",
    "\n",
    "for epoch_idx in range(num_epochs):\n",
    "    clear_output()\n",
    "    display(Markdown('**Training Summary**'))\n",
    "    display(pd.DataFrame.from_dict(training_summary).set_index('epoch_number'))\n",
    "\n",
    "    training_summary['epoch_number'].append(epoch_idx + 1)\n",
    "    \n",
    "    epoch_train_progress_bar = tqdm(total=num_train_batches, desc=f'Training epoch {epoch_idx + 1} of {num_epochs}: ', dynamic_ncols=True)\n",
    "    lora_model.train()\n",
    "    epoch_train_loss = 0\n",
    "    for batch in train_dataloader:\n",
    "        batch_size = len(batch)\n",
    "        flattened_images, targets = batch\n",
    "        flattened_images = flattened_images.to(device)\n",
    "        targets = targets.to(device)\n",
    "\n",
    "        predicted = lora_model(flattened_images)\n",
    "        \n",
    "        batch_train_loss = loss_function(predicted, targets)\n",
    "        epoch_train_loss += batch_train_loss.item()\n",
    "        batch_train_loss.backward()\n",
    "\n",
    "        optimizer.step()\n",
    "        optimizer.zero_grad()\n",
    "        \n",
    "        epoch_train_progress_bar.update(1)\n",
    "    epoch_train_progress_bar.close()\n",
    "    training_summary['train_loss'].append(epoch_train_loss)\n",
    "\n",
    "    epoch_val_progress_bar = tqdm(total=num_val_batches, desc=f'Evaluating epoch {epoch_idx + 1} of {num_epochs}: ', dynamic_ncols=True)\n",
    "    lora_model.eval()\n",
    "    epoch_val_loss = 0\n",
    "    for batch in val_dataloader:\n",
    "        batch_size = len(batch)\n",
    "        flattened_images, targets = batch\n",
    "        flattened_images = flattened_images.to(device)\n",
    "        targets = targets.to(device)\n",
    "        \n",
    "        predicted = lora_model(flattened_images)\n",
    "        \n",
    "        batch_val_loss = loss_function(predicted, targets)\n",
    "        epoch_val_loss += batch_val_loss.item()\n",
    "\n",
    "        epoch_val_progress_bar.update(1)\n",
    "    epoch_val_progress_bar.close()\n",
    "    training_summary['val_loss'].append(epoch_val_loss)\n",
    "\n",
    "    torch.save(lora_model.get_merged_model().state_dict(), os.path.join(models_output_folder_path, f'epoch_{str(epoch_idx + 1).zfill(2)}.pt'))\n",
    "    if epoch_val_loss < min_epoch_val_loss:\n",
    "        torch.save(lora_model.get_merged_model().state_dict(), os.path.join(models_output_folder_path, 'least_val_loss.pt'))\n",
    "\n",
    "clear_output()\n",
    "training_summary = pd.DataFrame.from_dict(training_summary).set_index('epoch_number')\n",
    "training_summary.to_csv(os.path.join(models_output_folder_path, 'training_summary.csv'), index=True)\n",
    "display(Markdown('**Training Summary**'))\n",
    "display(training_summary)"
   ]
  },
  {
   "cell_type": "code",
   "execution_count": 19,
   "id": "069fd478-18e8-4be6-9b08-769a94aef906",
   "metadata": {},
   "outputs": [],
   "source": [
    "lora_model.disable_adapter()"
   ]
  },
  {
   "cell_type": "markdown",
   "id": "64307d8c-f1d1-43c1-9389-8942dd0af265",
   "metadata": {},
   "source": [
    "# Testing (post LoRA fine-tuning)"
   ]
  },
  {
   "cell_type": "markdown",
   "id": "cc0bda96-29cf-4d2d-a26c-f5b16b14b340",
   "metadata": {},
   "source": [
    "## Defining hyper-parameters for testing"
   ]
  },
  {
   "cell_type": "code",
   "execution_count": 20,
   "id": "830ae4b3-1675-413a-b2fa-d644cf2cd8e0",
   "metadata": {},
   "outputs": [],
   "source": [
    "test_batch_size = 100"
   ]
  },
  {
   "cell_type": "markdown",
   "id": "a7663345-25f1-431a-b519-247168c1a8ed",
   "metadata": {},
   "source": [
    "## Loading & preparing dataset"
   ]
  },
  {
   "cell_type": "code",
   "execution_count": 21,
   "id": "85c8efd1-b092-44c0-9fb0-c20b898c1126",
   "metadata": {},
   "outputs": [],
   "source": [
    "test_dataset = FashionMNIST(train=False)\n",
    "num_instances_in_test_dataset = len(test_dataset)\n",
    "\n",
    "num_test_batches = math.ceil(len(test_dataset) / test_batch_size)\n",
    "test_dataloader = DataLoader(test_dataset, batch_size=test_batch_size)"
   ]
  },
  {
   "cell_type": "markdown",
   "id": "d73e4694-a9b7-415b-be49-652e868155ba",
   "metadata": {},
   "source": [
    "## Loading & preparing model for testing"
   ]
  },
  {
   "cell_type": "code",
   "execution_count": 22,
   "id": "b5a09cdf-261b-47e4-849e-58c66aa88411",
   "metadata": {},
   "outputs": [
    {
     "data": {
      "text/plain": [
       "MultiLayeredPerceptron(\n",
       "  (linear_0): Linear(in_features=784, out_features=512, bias=True)\n",
       "  (dropout_0): Dropout(p=0.2, inplace=False)\n",
       "  (relu_0): ReLU(inplace=True)\n",
       "  (linear_1): Linear(in_features=512, out_features=512, bias=True)\n",
       "  (dropout_1): Dropout(p=0.2, inplace=False)\n",
       "  (relu_1): ReLU(inplace=True)\n",
       "  (linear_2): Linear(in_features=512, out_features=512, bias=True)\n",
       "  (dropout_2): Dropout(p=0.2, inplace=False)\n",
       "  (relu_2): ReLU(inplace=True)\n",
       "  (output): Linear(in_features=512, out_features=10, bias=True)\n",
       ")"
      ]
     },
     "execution_count": 22,
     "metadata": {},
     "output_type": "execute_result"
    }
   ],
   "source": [
    "fine_tuned_model = MultiLayeredPerceptron()\n",
    "fine_tuned_model.load_state_dict(torch.load(os.path.join(models_output_folder_path, 'least_val_loss.pt'), weights_only=True))\n",
    "fine_tuned_model.to(device)\n",
    "fine_tuned_model.eval()"
   ]
  },
  {
   "cell_type": "code",
   "execution_count": 23,
   "id": "be766df7-1242-4043-b7c0-72c6ff7feeac",
   "metadata": {},
   "outputs": [],
   "source": [
    "device = 'cuda' if torch.cuda.is_available() else 'cpu'"
   ]
  },
  {
   "cell_type": "markdown",
   "id": "6342b09f-8414-45a0-8798-4dfb70d2cc87",
   "metadata": {},
   "source": [
    "## Predicting"
   ]
  },
  {
   "cell_type": "code",
   "execution_count": 24,
   "id": "3f477ee1-c4e4-4811-9cb2-66a5a4368003",
   "metadata": {},
   "outputs": [],
   "source": [
    "actual_labels = []\n",
    "predicted_scores = []\n",
    "predicted_labels = []\n",
    "\n",
    "test_dataset_evaluation_progress_bar = tqdm(total=num_test_batches, desc='Evaluating', dynamic_ncols=False)\n",
    "for batch in test_dataloader:\n",
    "    images, targets = batch\n",
    "    images = images.to(device)\n",
    "    targets = targets.to(device)\n",
    "    \n",
    "    batch_actual_labels = torch.argmax(targets, dim=-1)\n",
    "    actual_labels += batch_actual_labels.cpu().detach().numpy().tolist()\n",
    "\n",
    "    predictions = fine_tuned_model(images)\n",
    "    batch_predicted_scores = F.softmax(predictions, dim=-1)\n",
    "    batch_predicted_labels = torch.argmax(batch_predicted_scores, dim=-1)\n",
    "    predicted_scores += batch_predicted_scores.cpu().detach().numpy().tolist()\n",
    "    predicted_labels += batch_predicted_labels.cpu().detach().numpy().tolist()\n",
    "\n",
    "    test_dataset_evaluation_progress_bar.update(1)\n",
    "\n",
    "test_dataset_evaluation_progress_bar.close()\n",
    "clear_output()"
   ]
  },
  {
   "cell_type": "markdown",
   "id": "b03c5ede-6518-46f6-af20-92e7af18b5f9",
   "metadata": {},
   "source": [
    "## Computing metrics"
   ]
  },
  {
   "cell_type": "code",
   "execution_count": 25,
   "id": "b023baca-af86-4e34-84e9-d02d656536e4",
   "metadata": {},
   "outputs": [
    {
     "name": "stdout",
     "output_type": "stream",
     "text": [
      "Accuracy: 0.8757\n"
     ]
    }
   ],
   "source": [
    "accuracy = 0\n",
    "for actual_label, predicted_label in zip(actual_labels, predicted_labels):\n",
    "    if actual_label == predicted_label:\n",
    "        accuracy += 1\n",
    "accuracy /= len(test_dataset)\n",
    "print(f'Accuracy: {accuracy}')"
   ]
  },
  {
   "cell_type": "code",
   "execution_count": 26,
   "id": "cf51548d-c7dd-438b-904c-5b7f72552ff7",
   "metadata": {},
   "outputs": [
    {
     "data": {
      "text/markdown": [
       "* Average precision: 0.87631\n",
       "* Average recall: 0.8757\n",
       "* Average f1: 0.87558"
      ],
      "text/plain": [
       "<IPython.core.display.Markdown object>"
      ]
     },
     "metadata": {},
     "output_type": "display_data"
    },
    {
     "data": {
      "text/html": [
       "<div>\n",
       "<style scoped>\n",
       "    .dataframe tbody tr th:only-of-type {\n",
       "        vertical-align: middle;\n",
       "    }\n",
       "\n",
       "    .dataframe tbody tr th {\n",
       "        vertical-align: top;\n",
       "    }\n",
       "\n",
       "    .dataframe thead th {\n",
       "        text-align: right;\n",
       "    }\n",
       "</style>\n",
       "<table border=\"1\" class=\"dataframe\">\n",
       "  <thead>\n",
       "    <tr style=\"text-align: right;\">\n",
       "      <th></th>\n",
       "      <th>precision</th>\n",
       "      <th>recall</th>\n",
       "      <th>f1</th>\n",
       "    </tr>\n",
       "    <tr>\n",
       "      <th>label</th>\n",
       "      <th></th>\n",
       "      <th></th>\n",
       "      <th></th>\n",
       "    </tr>\n",
       "  </thead>\n",
       "  <tbody>\n",
       "    <tr>\n",
       "      <th>T-Shirt</th>\n",
       "      <td>0.833834</td>\n",
       "      <td>0.833</td>\n",
       "      <td>0.833417</td>\n",
       "    </tr>\n",
       "    <tr>\n",
       "      <th>Trouser</th>\n",
       "      <td>0.989754</td>\n",
       "      <td>0.966</td>\n",
       "      <td>0.977733</td>\n",
       "    </tr>\n",
       "    <tr>\n",
       "      <th>Pullover</th>\n",
       "      <td>0.817478</td>\n",
       "      <td>0.739</td>\n",
       "      <td>0.776261</td>\n",
       "    </tr>\n",
       "    <tr>\n",
       "      <th>Dress</th>\n",
       "      <td>0.858518</td>\n",
       "      <td>0.892</td>\n",
       "      <td>0.874939</td>\n",
       "    </tr>\n",
       "    <tr>\n",
       "      <th>Coat</th>\n",
       "      <td>0.774349</td>\n",
       "      <td>0.803</td>\n",
       "      <td>0.788414</td>\n",
       "    </tr>\n",
       "    <tr>\n",
       "      <th>Sandal</th>\n",
       "      <td>0.982273</td>\n",
       "      <td>0.942</td>\n",
       "      <td>0.961715</td>\n",
       "    </tr>\n",
       "    <tr>\n",
       "      <th>Shirt</th>\n",
       "      <td>0.680118</td>\n",
       "      <td>0.691</td>\n",
       "      <td>0.685516</td>\n",
       "    </tr>\n",
       "    <tr>\n",
       "      <th>Sneaker</th>\n",
       "      <td>0.917769</td>\n",
       "      <td>0.971</td>\n",
       "      <td>0.943635</td>\n",
       "    </tr>\n",
       "    <tr>\n",
       "      <th>Bag</th>\n",
       "      <td>0.945841</td>\n",
       "      <td>0.978</td>\n",
       "      <td>0.961652</td>\n",
       "    </tr>\n",
       "    <tr>\n",
       "      <th>Ankle Boot</th>\n",
       "      <td>0.963190</td>\n",
       "      <td>0.942</td>\n",
       "      <td>0.952477</td>\n",
       "    </tr>\n",
       "  </tbody>\n",
       "</table>\n",
       "</div>"
      ],
      "text/plain": [
       "            precision  recall        f1\n",
       "label                                  \n",
       "T-Shirt      0.833834   0.833  0.833417\n",
       "Trouser      0.989754   0.966  0.977733\n",
       "Pullover     0.817478   0.739  0.776261\n",
       "Dress        0.858518   0.892  0.874939\n",
       "Coat         0.774349   0.803  0.788414\n",
       "Sandal       0.982273   0.942  0.961715\n",
       "Shirt        0.680118   0.691  0.685516\n",
       "Sneaker      0.917769   0.971  0.943635\n",
       "Bag          0.945841   0.978  0.961652\n",
       "Ankle Boot   0.963190   0.942  0.952477"
      ]
     },
     "metadata": {},
     "output_type": "display_data"
    }
   ],
   "source": [
    "precision, recall, f1, support = precision_recall_fscore_support(actual_labels, predicted_labels, labels=list(range(10)), average=None)\n",
    "metrics_table = {\n",
    "    'label': [],\n",
    "    'precision': [],\n",
    "    'recall': [],\n",
    "    'f1': []\n",
    "}\n",
    "for label_idx, (precision_value, recall_value, f1_value) in enumerate(zip(precision, recall, f1)):\n",
    "    metrics_table['label'].append(FashionMNIST.LABEL_MAP[label_idx])\n",
    "    metrics_table['precision'].append(precision_value)\n",
    "    metrics_table['recall'].append(recall_value)\n",
    "    metrics_table['f1'].append(f1_value)\n",
    "\n",
    "metrics_table = pd.DataFrame.from_dict(metrics_table).set_index('label')\n",
    "average_precision = metrics_table['precision'].mean()\n",
    "average_recall = metrics_table['recall'].mean()\n",
    "average_f1 = metrics_table['f1'].mean()\n",
    "display(\n",
    "    Markdown(\n",
    "        f'* Average precision: {round(average_precision, 5)}' + '\\n' + \\\n",
    "        f'* Average recall: {round(average_recall, 5)}' + '\\n' + \\\n",
    "        f'* Average f1: {round(average_f1, 5)}'\n",
    "    )\n",
    ")\n",
    "\n",
    "metrics_table.to_csv(os.path.join(models_output_folder_path, 'metrics_table.csv'), index=True)\n",
    "display(metrics_table)"
   ]
  },
  {
   "cell_type": "code",
   "execution_count": 27,
   "id": "4c693490-c09d-40b0-b140-2aece7392a47",
   "metadata": {},
   "outputs": [
    {
     "data": {
      "image/png": "[encoded data removed]",
      "text/plain": [
       "<Figure size 1000x1000 with 2 Axes>"
      ]
     },
     "metadata": {},
     "output_type": "display_data"
    }
   ],
   "source": [
    "confusion_matrix = cm(actual_labels, predicted_labels)\n",
    "\n",
    "pd.DataFrame(\n",
    "    data=confusion_matrix,\n",
    "    index=list(range(10)),\n",
    "    columns=list(range(10))\n",
    ").to_csv(os.path.join(models_output_folder_path, 'confusion_matrix.csv'), index=True)\n",
    "\n",
    "plt.figure(num='Confusion Matrix', figsize=(10, 10))\n",
    "plt.matshow(confusion_matrix, cmap='summer', fignum=0)\n",
    "plt.xlabel('Predicted')\n",
    "plt.ylabel('Actual')\n",
    "plt.xticks(list(range(10)), [FashionMNIST.LABEL_MAP[label_idx] for label_idx in range(10)], rotation=90)\n",
    "plt.yticks(list(range(10)), [FashionMNIST.LABEL_MAP[label_idx] for label_idx in range(10)])\n",
    "for (i, j), value in np.ndenumerate(confusion_matrix):\n",
    "    plt.text(j, i, value, ha='center', va='center')\n",
    "plt.colorbar()\n",
    "plt.tight_layout()\n",
    "plt.savefig(os.path.join(models_output_folder_path, 'confusion_matrix.png'), format='png')\n",
    "plt.show()"
   ]
  },
  {
   "cell_type": "code",
   "execution_count": null,
   "id": "36efad63-3daf-4a75-b85e-2c5145c6494f",
   "metadata": {},
   "outputs": [],
   "source": []
  }
 ],
 "metadata": {
  "kernelspec": {
   "display_name": "Python 3 (ipykernel)",
   "language": "python",
   "name": "python3"
  },
  "language_info": {
   "codemirror_mode": {
    "name": "ipython",
    "version": 3
   },
   "file_extension": ".py",
   "mimetype": "text/x-python",
   "name": "python",
   "nbconvert_exporter": "python",
   "pygments_lexer": "ipython3",
   "version": "3.12.6"
  }
 },
 "nbformat": 4,
 "nbformat_minor": 5
}
