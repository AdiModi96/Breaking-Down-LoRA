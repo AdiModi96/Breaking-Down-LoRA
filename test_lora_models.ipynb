{
 "cells": [
  {
   "cell_type": "code",
   "execution_count": 1,
   "id": "6ed3ccef",
   "metadata": {},
   "outputs": [],
   "source": [
    "import torch\n",
    "from torch import nn\n",
    "from models import MultiLayeredPerceptron as mlp, ConvolutionalNetwork as cnn\n",
    "from lora_models import LoRAModel"
   ]
  },
  {
   "cell_type": "markdown",
   "id": "52db7b11",
   "metadata": {},
   "source": [
    "# Testing LoRAModel (MLP)"
   ]
  },
  {
   "cell_type": "code",
   "execution_count": 2,
   "id": "56d11fea-1382-4c76-9907-1dd3b71c3b8c",
   "metadata": {},
   "outputs": [],
   "source": [
    "device = 'cuda' if torch.cuda.is_available() else 'cpu'"
   ]
  },
  {
   "cell_type": "code",
   "execution_count": 3,
   "id": "77e78a5d-3978-44fb-abcc-2e4593380b32",
   "metadata": {},
   "outputs": [],
   "source": [
    "x = torch.randn(size=(4, 784))\n",
    "x = x.to(device)"
   ]
  },
  {
   "cell_type": "code",
   "execution_count": 4,
   "id": "bbb21057-b7f9-48c0-9b78-5f546c4bb85c",
   "metadata": {},
   "outputs": [
    {
     "name": "stdout",
     "output_type": "stream",
     "text": [
      "MultiLayeredPerceptron(\n",
      "  (linear_0): Linear(in_features=784, out_features=512, bias=True)\n",
      "  (dropout_0): Dropout(p=0.2, inplace=False)\n",
      "  (relu_0): ReLU(inplace=True)\n",
      "  (linear_1): Linear(in_features=512, out_features=512, bias=True)\n",
      "  (dropout_1): Dropout(p=0.2, inplace=False)\n",
      "  (relu_1): ReLU(inplace=True)\n",
      "  (linear_2): Linear(in_features=512, out_features=512, bias=True)\n",
      "  (dropout_2): Dropout(p=0.2, inplace=False)\n",
      "  (relu_2): ReLU(inplace=True)\n",
      "  (output): Linear(in_features=512, out_features=10, bias=True)\n",
      ")\n",
      "Num trainable/non-trainable parameters in model: 932362/0\n"
     ]
    }
   ],
   "source": [
    "model = mlp()\n",
    "model.to(device)\n",
    "print(model)\n",
    "\n",
    "num_trainable_parameters_in_model = 0\n",
    "num_non_trainable_parameters_in_model = 0\n",
    "for parameter in model.parameters():\n",
    "    if parameter.requires_grad:\n",
    "        num_trainable_parameters_in_model += parameter.numel()\n",
    "    else:\n",
    "        num_non_trainable_parameters_in_model += parameter.numel()\n",
    "print(f'Num trainable/non-trainable parameters in model: {num_trainable_parameters_in_model}/{num_non_trainable_parameters_in_model}')"
   ]
  },
  {
   "cell_type": "code",
   "execution_count": 5,
   "id": "09ecb998-eadf-4862-8930-3759e1d1e68b",
   "metadata": {},
   "outputs": [
    {
     "data": {
      "text/plain": [
       "tensor([[-0.0544,  0.0270, -0.0016,  0.0003, -0.0600,  0.1292, -0.0314, -0.0365,\n",
       "          0.0223, -0.0423],\n",
       "        [-0.0544,  0.0515,  0.0384, -0.0698, -0.0652,  0.0702, -0.0182,  0.0059,\n",
       "         -0.0304,  0.0099],\n",
       "        [-0.0273, -0.0057,  0.0567, -0.0642, -0.0040,  0.1113,  0.0086, -0.0040,\n",
       "         -0.0086,  0.0204],\n",
       "        [-0.0375,  0.0358, -0.0106, -0.0492, -0.0339,  0.0610,  0.0005, -0.0034,\n",
       "         -0.0138,  0.0236]], device='cuda:0', grad_fn=<AddmmBackward0>)"
      ]
     },
     "execution_count": 5,
     "metadata": {},
     "output_type": "execute_result"
    }
   ],
   "source": [
    "model.eval()\n",
    "model(x)"
   ]
  },
  {
   "cell_type": "code",
   "execution_count": 6,
   "id": "d78bc503-bafa-4ee2-8eae-b8e9dddf9f2f",
   "metadata": {},
   "outputs": [],
   "source": [
    "lora_config = {\n",
    "    'linear_*': {\n",
    "        'rank': 4,\n",
    "        'alpha': 2,\n",
    "        'delta_bias': True\n",
    "    },\n",
    "    'output': {\n",
    "        'rank': 4,\n",
    "        'alpha': 2,\n",
    "        'delta_bias': True\n",
    "    }\n",
    "}"
   ]
  },
  {
   "cell_type": "code",
   "execution_count": 7,
   "id": "cd036aa5-aca4-4158-a63c-73c0f588eb67",
   "metadata": {},
   "outputs": [
    {
     "name": "stdout",
     "output_type": "stream",
     "text": [
      "LoRAModel(\n",
      "  (base_model): MultiLayeredPerceptron(\n",
      "    (linear_0): LoRALinear(Linear(in_features=784, out_features=512, bias=True) + ((α=2.0/r=4) × Adapter(in_features=784, rank=4, out_features=512, delta_bias=True)))\n",
      "    (dropout_0): Dropout(p=0.2, inplace=False)\n",
      "    (relu_0): ReLU(inplace=True)\n",
      "    (linear_1): LoRALinear(Linear(in_features=512, out_features=512, bias=True) + ((α=2.0/r=4) × Adapter(in_features=512, rank=4, out_features=512, delta_bias=True)))\n",
      "    (dropout_1): Dropout(p=0.2, inplace=False)\n",
      "    (relu_1): ReLU(inplace=True)\n",
      "    (linear_2): LoRALinear(Linear(in_features=512, out_features=512, bias=True) + ((α=2.0/r=4) × Adapter(in_features=512, rank=4, out_features=512, delta_bias=True)))\n",
      "    (dropout_2): Dropout(p=0.2, inplace=False)\n",
      "    (relu_2): ReLU(inplace=True)\n",
      "    (output): LoRALinear(Linear(in_features=512, out_features=10, bias=True) + ((α=2.0/r=4) × Adapter(in_features=512, rank=4, out_features=10, delta_bias=True)))\n",
      "  )\n",
      ")\n",
      "Num trainable/non-trainable parameters in LoRA Model: 17010/932370\n"
     ]
    }
   ],
   "source": [
    "lora_model = LoRAModel(model, lora_config)\n",
    "print(lora_model)\n",
    "\n",
    "num_trainable_parameters_in_lora_model = 0\n",
    "num_non_trainable_parameters_in_lora_model = 0\n",
    "for parameter in lora_model.parameters():\n",
    "    if parameter.requires_grad:\n",
    "        num_trainable_parameters_in_lora_model += parameter.numel()\n",
    "    else:\n",
    "        num_non_trainable_parameters_in_lora_model += parameter.numel()\n",
    "print(f'Num trainable/non-trainable parameters in LoRA Model: {num_trainable_parameters_in_lora_model}/{num_non_trainable_parameters_in_lora_model}')"
   ]
  },
  {
   "cell_type": "code",
   "execution_count": 8,
   "id": "aaf81bd0-94c0-49a8-ae71-a652f0617db6",
   "metadata": {},
   "outputs": [
    {
     "data": {
      "text/plain": [
       "tensor([[-0.0544,  0.0270, -0.0016,  0.0003, -0.0600,  0.1292, -0.0314, -0.0365,\n",
       "          0.0223, -0.0423],\n",
       "        [-0.0544,  0.0515,  0.0384, -0.0698, -0.0652,  0.0702, -0.0182,  0.0059,\n",
       "         -0.0304,  0.0099],\n",
       "        [-0.0273, -0.0057,  0.0567, -0.0642, -0.0040,  0.1113,  0.0086, -0.0040,\n",
       "         -0.0086,  0.0204],\n",
       "        [-0.0375,  0.0358, -0.0106, -0.0492, -0.0339,  0.0610,  0.0005, -0.0034,\n",
       "         -0.0138,  0.0236]], device='cuda:0')"
      ]
     },
     "execution_count": 8,
     "metadata": {},
     "output_type": "execute_result"
    }
   ],
   "source": [
    "lora_model.disable_adapter()\n",
    "lora_model.eval()\n",
    "lora_model(x)"
   ]
  },
  {
   "cell_type": "code",
   "execution_count": 9,
   "id": "85d64e77-5bd1-406b-9778-ad62faa155a9",
   "metadata": {},
   "outputs": [
    {
     "data": {
      "text/plain": [
       "tensor([[ 0.0037,  0.0947, -0.0024,  0.0040, -0.1061,  0.1092, -0.0352, -0.0432,\n",
       "          0.0057, -0.0423],\n",
       "        [-0.0278,  0.0786,  0.0784, -0.0598, -0.0853,  0.0683, -0.0071,  0.0340,\n",
       "         -0.0380, -0.0046],\n",
       "        [-0.0026,  0.0545,  0.0501, -0.0565, -0.0271,  0.0867,  0.0021, -0.0303,\n",
       "         -0.0201,  0.0183],\n",
       "        [ 0.0089,  0.1021, -0.0008, -0.0393, -0.0519,  0.0457, -0.0124,  0.0288,\n",
       "         -0.0451,  0.0193]], device='cuda:0', grad_fn=<AddmmBackward0>)"
      ]
     },
     "execution_count": 9,
     "metadata": {},
     "output_type": "execute_result"
    }
   ],
   "source": [
    "lora_model.enable_adapter()\n",
    "lora_model(x)"
   ]
  },
  {
   "cell_type": "code",
   "execution_count": 10,
   "id": "b5c5db3a-4f3c-4421-b587-225cb3e4595d",
   "metadata": {},
   "outputs": [
    {
     "data": {
      "text/plain": [
       "tensor([[ 0.0037,  0.0947, -0.0024,  0.0040, -0.1061,  0.1092, -0.0352, -0.0432,\n",
       "          0.0057, -0.0423],\n",
       "        [-0.0278,  0.0786,  0.0784, -0.0598, -0.0853,  0.0683, -0.0071,  0.0340,\n",
       "         -0.0380, -0.0046],\n",
       "        [-0.0026,  0.0545,  0.0501, -0.0565, -0.0271,  0.0867,  0.0021, -0.0303,\n",
       "         -0.0201,  0.0183],\n",
       "        [ 0.0089,  0.1021, -0.0008, -0.0393, -0.0519,  0.0457, -0.0124,  0.0288,\n",
       "         -0.0451,  0.0193]], device='cuda:0', grad_fn=<AddmmBackward0>)"
      ]
     },
     "execution_count": 10,
     "metadata": {},
     "output_type": "execute_result"
    }
   ],
   "source": [
    "merged_model = lora_model.get_merged_model()\n",
    "merged_model.to(device)\n",
    "merged_model.eval()\n",
    "merged_model(x)"
   ]
  },
  {
   "cell_type": "markdown",
   "id": "05f8fd50-72d7-43b1-9bc9-28a3bbd83999",
   "metadata": {},
   "source": [
    "# Testing LoRAModel (CNN)"
   ]
  },
  {
   "cell_type": "code",
   "execution_count": 11,
   "id": "dbcc6487-bb11-4c87-9242-a4520096558e",
   "metadata": {},
   "outputs": [],
   "source": [
    "device = 'cuda' if torch.cuda.is_available() else 'cpu'"
   ]
  },
  {
   "cell_type": "code",
   "execution_count": 12,
   "id": "e3832997-7a1f-4ed4-b072-ceabeca52d7a",
   "metadata": {},
   "outputs": [],
   "source": [
    "x = torch.randn(size=(4, 1, 28, 28))\n",
    "x = x.to(device)"
   ]
  },
  {
   "cell_type": "code",
   "execution_count": 13,
   "id": "f54e39d2-67bc-4f99-8ad6-556fd66a7df8",
   "metadata": {},
   "outputs": [
    {
     "name": "stdout",
     "output_type": "stream",
     "text": [
      "ConvolutionalNetwork(\n",
      "  (conv2d_0): Conv2d(1, 64, kernel_size=(5, 5), stride=(1, 1), padding=(2, 2))\n",
      "  (dropout_0): Dropout(p=0.2, inplace=False)\n",
      "  (relu_0): ReLU(inplace=True)\n",
      "  (conv2d_1): Conv2d(64, 64, kernel_size=(5, 5), stride=(1, 1), padding=(2, 2))\n",
      "  (dropout_1): Dropout(p=0.2, inplace=False)\n",
      "  (relu_1): ReLU(inplace=True)\n",
      "  (conv2d_2): Conv2d(64, 1, kernel_size=(5, 5), stride=(1, 1), padding=(2, 2))\n",
      "  (dropout_2): Dropout(p=0.2, inplace=False)\n",
      "  (relu_2): ReLU(inplace=True)\n",
      "  (output): Linear(in_features=784, out_features=10, bias=True)\n",
      ")\n",
      "Num trainable/non-trainable parameters in model: 113579/0\n"
     ]
    }
   ],
   "source": [
    "model = cnn()\n",
    "model.to(device)\n",
    "print(model)\n",
    "\n",
    "num_trainable_parameters_in_model = 0\n",
    "num_non_trainable_parameters_in_model = 0\n",
    "for parameter in model.parameters():\n",
    "    if parameter.requires_grad:\n",
    "        num_trainable_parameters_in_model += parameter.numel()\n",
    "    else:\n",
    "        num_non_trainable_parameters_in_model += parameter.numel()\n",
    "print(f'Num trainable/non-trainable parameters in model: {num_trainable_parameters_in_model}/{num_non_trainable_parameters_in_model}')"
   ]
  },
  {
   "cell_type": "code",
   "execution_count": 14,
   "id": "3ad01ed9-8a17-4e29-bdad-f04dc2a3cd98",
   "metadata": {},
   "outputs": [
    {
     "data": {
      "text/plain": [
       "tensor([[ 0.0241, -0.0310, -0.0251, -0.0225, -0.0193, -0.0497,  0.0420,  0.0044,\n",
       "         -0.0239, -0.0384],\n",
       "        [ 0.0162, -0.0485, -0.0169, -0.0236, -0.0067, -0.0422,  0.0184,  0.0161,\n",
       "          0.0030, -0.0555],\n",
       "        [-0.0250, -0.0069, -0.0354, -0.0179,  0.0139, -0.0380,  0.0015,  0.0284,\n",
       "          0.0081, -0.0346],\n",
       "        [ 0.0536, -0.0803, -0.0117, -0.0010, -0.0234, -0.0283,  0.0063,  0.0015,\n",
       "          0.0073, -0.0364]], device='cuda:0', grad_fn=<AddmmBackward0>)"
      ]
     },
     "execution_count": 14,
     "metadata": {},
     "output_type": "execute_result"
    }
   ],
   "source": [
    "model.eval()\n",
    "model(x)"
   ]
  },
  {
   "cell_type": "code",
   "execution_count": 15,
   "id": "ebaaa9ed-54cc-4188-89a6-fb355761143d",
   "metadata": {},
   "outputs": [],
   "source": [
    "lora_config = {\n",
    "    'conv2d_*': {\n",
    "        'alpha': 8,\n",
    "        'rank': 4,\n",
    "        'rank_for': 'channels',\n",
    "        'delta_bias': True\n",
    "    }\n",
    "}"
   ]
  },
  {
   "cell_type": "code",
   "execution_count": 16,
   "id": "567c6114-6fe9-44d5-8849-12e1c4e55dc8",
   "metadata": {},
   "outputs": [
    {
     "name": "stdout",
     "output_type": "stream",
     "text": [
      "LoRAModel(\n",
      "  (base_model): ConvolutionalNetwork(\n",
      "    (conv2d_0): LoRAConv2d(Conv2d(1, 64, kernel_size=(5, 5), stride=(1, 1), padding=(2, 2)) + ((α=8.0/r=4) × Adapter(in_channels=1, rank=4, out_features=64, delta_bias=True)))\n",
      "    (dropout_0): Dropout(p=0.2, inplace=False)\n",
      "    (relu_0): ReLU(inplace=True)\n",
      "    (conv2d_1): LoRAConv2d(Conv2d(64, 64, kernel_size=(5, 5), stride=(1, 1), padding=(2, 2)) + ((α=8.0/r=4) × Adapter(in_channels=64, rank=4, out_features=64, delta_bias=True)))\n",
      "    (dropout_1): Dropout(p=0.2, inplace=False)\n",
      "    (relu_1): ReLU(inplace=True)\n",
      "    (conv2d_2): LoRAConv2d(Conv2d(64, 1, kernel_size=(5, 5), stride=(1, 1), padding=(2, 2)) + ((α=8.0/r=4) × Adapter(in_channels=64, rank=4, out_features=1, delta_bias=True)))\n",
      "    (dropout_2): Dropout(p=0.2, inplace=False)\n",
      "    (relu_2): ReLU(inplace=True)\n",
      "    (output): Linear(in_features=784, out_features=10, bias=True)\n",
      "  )\n",
      ")\n",
      "Num trainable/non-trainable parameters in LoRA Model: 25929/113585\n"
     ]
    }
   ],
   "source": [
    "lora_model = LoRAModel(model, lora_config)\n",
    "print(lora_model)\n",
    "\n",
    "num_trainable_parameters_in_lora_model = 0\n",
    "num_non_trainable_parameters_in_lora_model = 0\n",
    "for parameter in lora_model.parameters():\n",
    "    if parameter.requires_grad:\n",
    "        num_trainable_parameters_in_lora_model += parameter.numel()\n",
    "    else:\n",
    "        num_non_trainable_parameters_in_lora_model += parameter.numel()\n",
    "print(f'Num trainable/non-trainable parameters in LoRA Model: {num_trainable_parameters_in_lora_model}/{num_non_trainable_parameters_in_lora_model}')"
   ]
  },
  {
   "cell_type": "code",
   "execution_count": 17,
   "id": "190bff23-9592-4593-b5eb-7ad6ab65cfdb",
   "metadata": {},
   "outputs": [
    {
     "data": {
      "text/plain": [
       "tensor([[ 0.0241, -0.0310, -0.0251, -0.0225, -0.0193, -0.0497,  0.0420,  0.0044,\n",
       "         -0.0239, -0.0384],\n",
       "        [ 0.0162, -0.0485, -0.0169, -0.0236, -0.0067, -0.0422,  0.0184,  0.0161,\n",
       "          0.0030, -0.0555],\n",
       "        [-0.0250, -0.0069, -0.0354, -0.0179,  0.0139, -0.0380,  0.0015,  0.0284,\n",
       "          0.0081, -0.0346],\n",
       "        [ 0.0536, -0.0803, -0.0117, -0.0010, -0.0234, -0.0283,  0.0063,  0.0015,\n",
       "          0.0073, -0.0364]], device='cuda:0')"
      ]
     },
     "execution_count": 17,
     "metadata": {},
     "output_type": "execute_result"
    }
   ],
   "source": [
    "lora_model.disable_adapter()\n",
    "lora_model.eval()\n",
    "lora_model(x)"
   ]
  },
  {
   "cell_type": "code",
   "execution_count": 18,
   "id": "95ae52c5-40cf-42bf-a143-856e5e733ee2",
   "metadata": {},
   "outputs": [
    {
     "data": {
      "text/plain": [
       "tensor([[ 0.0162, -0.0355, -0.0097, -0.0323, -0.0102, -0.0644,  0.0630, -0.0073,\n",
       "          0.0091, -0.0367],\n",
       "        [ 0.0133, -0.0720, -0.0157, -0.0315, -0.0305, -0.0206,  0.0352,  0.0101,\n",
       "          0.0234, -0.0886],\n",
       "        [-0.0321,  0.0075, -0.0406, -0.0119,  0.0126, -0.0357, -0.0085,  0.0455,\n",
       "          0.0117, -0.0522],\n",
       "        [ 0.0394, -0.0989, -0.0014, -0.0230, -0.0404, -0.0065,  0.0279, -0.0050,\n",
       "          0.0265, -0.0495]], device='cuda:0', grad_fn=<AddmmBackward0>)"
      ]
     },
     "execution_count": 18,
     "metadata": {},
     "output_type": "execute_result"
    }
   ],
   "source": [
    "lora_model.enable_adapter()\n",
    "lora_model(x)"
   ]
  },
  {
   "cell_type": "code",
   "execution_count": 19,
   "id": "d39e871f-236c-4ec8-8e0f-e4fa6b2413a2",
   "metadata": {},
   "outputs": [
    {
     "data": {
      "text/plain": [
       "tensor([[ 0.0162, -0.0355, -0.0097, -0.0323, -0.0102, -0.0644,  0.0630, -0.0073,\n",
       "          0.0091, -0.0367],\n",
       "        [ 0.0133, -0.0720, -0.0157, -0.0315, -0.0305, -0.0206,  0.0352,  0.0101,\n",
       "          0.0234, -0.0886],\n",
       "        [-0.0321,  0.0075, -0.0406, -0.0119,  0.0126, -0.0357, -0.0085,  0.0455,\n",
       "          0.0117, -0.0522],\n",
       "        [ 0.0394, -0.0989, -0.0014, -0.0230, -0.0404, -0.0065,  0.0279, -0.0050,\n",
       "          0.0265, -0.0495]], device='cuda:0', grad_fn=<AddmmBackward0>)"
      ]
     },
     "execution_count": 19,
     "metadata": {},
     "output_type": "execute_result"
    }
   ],
   "source": [
    "merged_model = lora_model.get_merged_model()\n",
    "merged_model.to(device)\n",
    "merged_model.eval()\n",
    "merged_model(x)"
   ]
  },
  {
   "cell_type": "code",
   "execution_count": null,
   "id": "9fc91563-7137-41a2-921a-9c8210a7b03d",
   "metadata": {},
   "outputs": [],
   "source": []
  }
 ],
 "metadata": {
  "kernelspec": {
   "display_name": "Python 3 (ipykernel)",
   "language": "python",
   "name": "python3"
  },
  "language_info": {
   "codemirror_mode": {
    "name": "ipython",
    "version": 3
   },
   "file_extension": ".py",
   "mimetype": "text/x-python",
   "name": "python",
   "nbconvert_exporter": "python",
   "pygments_lexer": "ipython3",
   "version": "3.12.6"
  }
 },
 "nbformat": 4,
 "nbformat_minor": 5
}
