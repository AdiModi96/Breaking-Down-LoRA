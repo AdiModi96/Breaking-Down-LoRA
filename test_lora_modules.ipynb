{
 "cells": [
  {
   "cell_type": "code",
   "execution_count": 1,
   "id": "4fbcbb83",
   "metadata": {},
   "outputs": [],
   "source": [
    "import torch\n",
    "from torch import nn\n",
    "from lora_modules import LoRALinear"
   ]
  },
  {
   "cell_type": "markdown",
   "id": "4e713db0",
   "metadata": {},
   "source": [
    "# Testing LoRALinear"
   ]
  },
  {
   "cell_type": "code",
   "execution_count": 2,
   "id": "c69c527e-db98-440c-b233-c2c28726ff2b",
   "metadata": {},
   "outputs": [],
   "source": [
    "device = 'cuda' if torch.cuda.is_available() else 'cpu'"
   ]
  },
  {
   "cell_type": "code",
   "execution_count": 3,
   "id": "bfc04209",
   "metadata": {},
   "outputs": [],
   "source": [
    "x = torch.randn(size=(4, 16))\n",
    "x = x.to(device)"
   ]
  },
  {
   "cell_type": "code",
   "execution_count": 4,
   "id": "c392a180",
   "metadata": {},
   "outputs": [],
   "source": [
    "in_features = 16\n",
    "out_features = 32\n",
    "bias = True"
   ]
  },
  {
   "cell_type": "code",
   "execution_count": 5,
   "id": "50e2315d",
   "metadata": {},
   "outputs": [
    {
     "name": "stdout",
     "output_type": "stream",
     "text": [
      "Linear(in_features=16, out_features=32, bias=True)\n",
      "Num trainable/non-trainable parameters in Linear: 544/0\n"
     ]
    }
   ],
   "source": [
    "linear = nn.Linear(in_features=in_features, out_features=out_features, bias=bias)\n",
    "linear.to(device)\n",
    "print(linear)\n",
    "\n",
    "num_trainable_parameters_in_linear = 0\n",
    "num_non_trainable_parameters_in_linear = 0\n",
    "for parameter in linear.parameters():\n",
    "    if parameter.requires_grad:\n",
    "        num_trainable_parameters_in_linear += parameter.numel()\n",
    "    else:\n",
    "        num_non_trainable_parameters_in_linear += parameter.numel()\n",
    "print(f'Num trainable/non-trainable parameters in Linear: {num_trainable_parameters_in_linear}/{num_non_trainable_parameters_in_linear}')"
   ]
  },
  {
   "cell_type": "code",
   "execution_count": 6,
   "id": "a8363301",
   "metadata": {},
   "outputs": [
    {
     "data": {
      "text/plain": [
       "tensor([[-0.9974,  0.2971,  0.4827, -0.1939,  0.0840,  0.3795, -0.1560, -0.8703,\n",
       "          0.2838,  0.2311, -0.0806, -0.3444, -0.1399, -0.7673, -0.1217, -0.4844,\n",
       "         -0.0116, -1.2735,  0.1225,  0.6411,  0.2643,  0.5202,  0.3701,  0.0701,\n",
       "         -0.3931,  0.2665,  0.8281,  0.3925, -0.9762,  0.0633,  0.5376, -0.3201],\n",
       "        [ 0.9448, -1.0424, -0.7873,  0.5302,  0.0658,  0.6236, -0.1832,  1.1294,\n",
       "          0.4910, -0.0195,  0.7048,  1.3998,  0.4556,  0.8646, -0.2026, -0.4290,\n",
       "         -0.1479, -0.0901,  1.0054, -0.4510, -0.1345, -0.1178, -0.3862,  0.4515,\n",
       "          1.1967,  0.5483, -0.3600,  0.5713,  0.3901, -0.4534,  0.4421, -0.2241],\n",
       "        [ 0.3602,  0.3605,  1.6869,  0.0447,  0.0131,  0.4407, -0.8250, -1.0779,\n",
       "         -0.4620, -0.6680,  0.3935, -0.0041, -0.0141, -0.6126, -0.7687, -0.1662,\n",
       "          0.3416, -0.8928,  0.2881,  0.9859, -0.6207,  0.1412,  0.5736, -0.8701,\n",
       "         -0.0902, -0.3355,  1.2091,  0.4819,  0.5685, -0.2906,  0.4154, -0.7510],\n",
       "        [ 0.4440, -0.3239, -0.8121,  0.6208, -0.3895, -1.0577, -0.6378, -0.1385,\n",
       "         -0.9950,  0.1774,  0.0625,  0.7610, -0.1252, -0.3108, -0.1363,  0.1151,\n",
       "         -0.0458,  1.0413, -0.2904,  0.2216, -0.1737, -0.0919, -0.2951,  0.3233,\n",
       "          0.0595, -0.5373, -0.7198, -0.5820, -0.6062, -0.0792, -0.3906, -0.3915]],\n",
       "       device='cuda:0', grad_fn=<AddmmBackward0>)"
      ]
     },
     "execution_count": 6,
     "metadata": {},
     "output_type": "execute_result"
    }
   ],
   "source": [
    "linear(x)"
   ]
  },
  {
   "cell_type": "raw",
   "id": "5d58ba81-ea6c-44d0-a6a0-6fc4686ab6d2",
   "metadata": {},
   "source": [
    "linear.state_dict()"
   ]
  },
  {
   "cell_type": "code",
   "execution_count": 7,
   "id": "b5f39ef8",
   "metadata": {},
   "outputs": [],
   "source": [
    "lora_config = {\n",
    "    'rank': 4,\n",
    "    'alpha': 2,\n",
    "    'delta_bias': False\n",
    "}"
   ]
  },
  {
   "cell_type": "code",
   "execution_count": 8,
   "id": "d17c113c",
   "metadata": {},
   "outputs": [
    {
     "name": "stdout",
     "output_type": "stream",
     "text": [
      "LoRALinear(Linear(in_features=16, out_features=32, bias=True) + ((α=2.0/r=4) × Adapter(in_features=16, rank=4, out_features=32, delta_bias=False)))\n",
      "Num trainable/non-trainable parameters in LoRA Linear: 192/546\n"
     ]
    }
   ],
   "source": [
    "lora_linear = LoRALinear(linear, lora_config)\n",
    "print(lora_linear)\n",
    "\n",
    "num_trainable_parameters_in_lora_linear = 0\n",
    "num_non_trainable_parameters_in_lora_linear = 0\n",
    "for parameter in lora_linear.parameters():\n",
    "    if parameter.requires_grad:\n",
    "        num_trainable_parameters_in_lora_linear += parameter.numel()\n",
    "    else:\n",
    "        num_non_trainable_parameters_in_lora_linear += parameter.numel()\n",
    "print(f'Num trainable/non-trainable parameters in LoRA Linear: {num_trainable_parameters_in_lora_linear}/{num_non_trainable_parameters_in_lora_linear}')"
   ]
  },
  {
   "cell_type": "code",
   "execution_count": 9,
   "id": "a18572f1",
   "metadata": {},
   "outputs": [
    {
     "data": {
      "text/plain": [
       "tensor([[-0.9974,  0.2971,  0.4827, -0.1939,  0.0840,  0.3795, -0.1560, -0.8703,\n",
       "          0.2838,  0.2311, -0.0806, -0.3444, -0.1399, -0.7673, -0.1217, -0.4844,\n",
       "         -0.0116, -1.2735,  0.1225,  0.6411,  0.2643,  0.5202,  0.3701,  0.0701,\n",
       "         -0.3931,  0.2665,  0.8281,  0.3925, -0.9762,  0.0633,  0.5376, -0.3201],\n",
       "        [ 0.9448, -1.0424, -0.7873,  0.5302,  0.0658,  0.6236, -0.1832,  1.1294,\n",
       "          0.4910, -0.0195,  0.7048,  1.3998,  0.4556,  0.8646, -0.2026, -0.4290,\n",
       "         -0.1479, -0.0901,  1.0054, -0.4510, -0.1345, -0.1178, -0.3862,  0.4515,\n",
       "          1.1967,  0.5483, -0.3600,  0.5713,  0.3901, -0.4534,  0.4421, -0.2241],\n",
       "        [ 0.3602,  0.3605,  1.6869,  0.0447,  0.0131,  0.4407, -0.8250, -1.0779,\n",
       "         -0.4620, -0.6680,  0.3935, -0.0041, -0.0141, -0.6126, -0.7687, -0.1662,\n",
       "          0.3416, -0.8928,  0.2881,  0.9859, -0.6207,  0.1412,  0.5736, -0.8701,\n",
       "         -0.0902, -0.3355,  1.2091,  0.4819,  0.5685, -0.2906,  0.4154, -0.7510],\n",
       "        [ 0.4440, -0.3239, -0.8121,  0.6208, -0.3895, -1.0577, -0.6378, -0.1385,\n",
       "         -0.9950,  0.1774,  0.0625,  0.7610, -0.1252, -0.3108, -0.1363,  0.1151,\n",
       "         -0.0458,  1.0413, -0.2904,  0.2216, -0.1737, -0.0919, -0.2951,  0.3233,\n",
       "          0.0595, -0.5373, -0.7198, -0.5820, -0.6062, -0.0792, -0.3906, -0.3915]],\n",
       "       device='cuda:0')"
      ]
     },
     "execution_count": 9,
     "metadata": {},
     "output_type": "execute_result"
    }
   ],
   "source": [
    "lora_linear.disable_adapter()\n",
    "lora_linear(x)"
   ]
  },
  {
   "cell_type": "code",
   "execution_count": 10,
   "id": "db18a883",
   "metadata": {},
   "outputs": [
    {
     "data": {
      "text/plain": [
       "tensor([[-1.1160e+00,  6.7169e-02,  1.7643e-01, -2.2289e-01,  2.8446e-02,\n",
       "          1.0022e-01, -2.4928e-01, -9.5091e-01,  3.0792e-01, -1.9356e-02,\n",
       "          1.0941e-01, -5.7883e-01,  3.6339e-01, -1.0004e+00, -2.0747e-01,\n",
       "         -4.2455e-01, -1.3423e-03, -1.3222e+00, -5.3823e-02,  8.4764e-01,\n",
       "          2.0883e-02,  6.4379e-01,  2.6028e-01, -2.8996e-01, -3.3305e-01,\n",
       "          3.0832e-01,  6.7640e-01,  3.9435e-01, -5.0337e-01,  1.9751e-01,\n",
       "          2.9437e-01, -4.5602e-01],\n",
       "        [ 5.7233e-01, -6.6440e-01, -1.0173e+00,  1.6374e-01,  6.4171e-02,\n",
       "          7.8138e-01, -2.7517e-01,  1.0964e+00,  6.9501e-01, -1.5336e-03,\n",
       "          5.8168e-01,  1.2845e+00,  3.0624e-01,  5.9930e-01,  2.0957e-01,\n",
       "         -7.8737e-01,  1.1396e-01, -5.4319e-02,  9.9113e-01, -6.8297e-01,\n",
       "         -2.5250e-02,  5.3367e-01, -2.2419e-01,  2.6684e-01,  1.6029e+00,\n",
       "          3.2535e-01, -3.4595e-01,  4.1655e-01,  5.6776e-01, -2.4828e-01,\n",
       "          5.3327e-01,  8.7938e-02],\n",
       "        [ 2.6089e-01,  1.0196e-01,  1.5086e+00,  2.2994e-01,  1.9762e-01,\n",
       "          2.0947e-01, -6.7550e-01, -9.2894e-01, -5.9707e-01, -8.1123e-01,\n",
       "          5.3015e-01, -1.4752e-01,  2.2886e-01, -6.2580e-01, -1.0068e+00,\n",
       "         -1.6558e-01,  2.0536e-01, -6.8794e-01,  1.9203e-01,  1.2273e+00,\n",
       "         -8.1713e-01, -3.1442e-02,  3.6213e-01, -1.0381e+00, -2.3716e-01,\n",
       "         -4.5041e-01,  9.5438e-01,  5.0330e-01,  6.6185e-01, -4.2032e-01,\n",
       "          2.0670e-01, -9.6824e-01],\n",
       "        [ 4.7210e-01, -2.3387e-01, -6.6921e-01,  6.9338e-01, -1.1259e-01,\n",
       "         -1.3624e+00, -3.9279e-01, -7.4578e-02, -1.0466e+00,  1.0047e-02,\n",
       "         -2.3147e-01,  9.5288e-01, -3.0474e-01, -2.7520e-01, -1.7317e-01,\n",
       "          3.9935e-02,  1.0203e-01,  1.2374e+00, -1.1538e-01, -7.0438e-02,\n",
       "         -3.8988e-01, -3.1696e-01, -2.0400e-01,  3.3252e-01, -4.0298e-02,\n",
       "         -6.7158e-01, -5.1802e-01, -3.8653e-01, -7.6384e-01, -1.2153e-01,\n",
       "         -3.1467e-01, -3.3293e-01]], device='cuda:0', grad_fn=<AddmmBackward0>)"
      ]
     },
     "execution_count": 10,
     "metadata": {},
     "output_type": "execute_result"
    }
   ],
   "source": [
    "lora_linear.enable_adapter()\n",
    "lora_linear(x)"
   ]
  },
  {
   "cell_type": "code",
   "execution_count": 11,
   "id": "ada7966c",
   "metadata": {},
   "outputs": [
    {
     "data": {
      "text/plain": [
       "tensor([[-1.1160e+00,  6.7169e-02,  1.7643e-01, -2.2289e-01,  2.8446e-02,\n",
       "          1.0022e-01, -2.4928e-01, -9.5091e-01,  3.0792e-01, -1.9356e-02,\n",
       "          1.0941e-01, -5.7883e-01,  3.6339e-01, -1.0004e+00, -2.0747e-01,\n",
       "         -4.2455e-01, -1.3423e-03, -1.3222e+00, -5.3823e-02,  8.4764e-01,\n",
       "          2.0883e-02,  6.4379e-01,  2.6028e-01, -2.8996e-01, -3.3305e-01,\n",
       "          3.0832e-01,  6.7640e-01,  3.9435e-01, -5.0337e-01,  1.9751e-01,\n",
       "          2.9437e-01, -4.5602e-01],\n",
       "        [ 5.7233e-01, -6.6440e-01, -1.0173e+00,  1.6374e-01,  6.4171e-02,\n",
       "          7.8138e-01, -2.7517e-01,  1.0964e+00,  6.9501e-01, -1.5336e-03,\n",
       "          5.8168e-01,  1.2845e+00,  3.0624e-01,  5.9930e-01,  2.0957e-01,\n",
       "         -7.8737e-01,  1.1396e-01, -5.4319e-02,  9.9113e-01, -6.8297e-01,\n",
       "         -2.5250e-02,  5.3367e-01, -2.2419e-01,  2.6684e-01,  1.6029e+00,\n",
       "          3.2535e-01, -3.4595e-01,  4.1655e-01,  5.6776e-01, -2.4828e-01,\n",
       "          5.3327e-01,  8.7938e-02],\n",
       "        [ 2.6089e-01,  1.0196e-01,  1.5086e+00,  2.2994e-01,  1.9762e-01,\n",
       "          2.0947e-01, -6.7550e-01, -9.2894e-01, -5.9707e-01, -8.1123e-01,\n",
       "          5.3015e-01, -1.4752e-01,  2.2886e-01, -6.2580e-01, -1.0068e+00,\n",
       "         -1.6558e-01,  2.0536e-01, -6.8794e-01,  1.9203e-01,  1.2273e+00,\n",
       "         -8.1713e-01, -3.1442e-02,  3.6213e-01, -1.0381e+00, -2.3716e-01,\n",
       "         -4.5041e-01,  9.5438e-01,  5.0330e-01,  6.6185e-01, -4.2032e-01,\n",
       "          2.0670e-01, -9.6824e-01],\n",
       "        [ 4.7210e-01, -2.3387e-01, -6.6921e-01,  6.9338e-01, -1.1259e-01,\n",
       "         -1.3624e+00, -3.9279e-01, -7.4578e-02, -1.0466e+00,  1.0047e-02,\n",
       "         -2.3147e-01,  9.5288e-01, -3.0474e-01, -2.7520e-01, -1.7317e-01,\n",
       "          3.9935e-02,  1.0203e-01,  1.2374e+00, -1.1538e-01, -7.0438e-02,\n",
       "         -3.8988e-01, -3.1696e-01, -2.0400e-01,  3.3252e-01, -4.0298e-02,\n",
       "         -6.7158e-01, -5.1802e-01, -3.8653e-01, -7.6384e-01, -1.2153e-01,\n",
       "         -3.1467e-01, -3.3293e-01]], device='cuda:0', grad_fn=<AddmmBackward0>)"
      ]
     },
     "execution_count": 11,
     "metadata": {},
     "output_type": "execute_result"
    }
   ],
   "source": [
    "merged_linear = lora_linear.get_merged_module()\n",
    "merged_linear(x)"
   ]
  },
  {
   "cell_type": "code",
   "execution_count": 12,
   "id": "60a18b3e",
   "metadata": {},
   "outputs": [
    {
     "data": {
      "text/plain": [
       "tensor([[-0.9974,  0.2971,  0.4827, -0.1939,  0.0840,  0.3795, -0.1560, -0.8703,\n",
       "          0.2838,  0.2311, -0.0806, -0.3444, -0.1399, -0.7673, -0.1217, -0.4844,\n",
       "         -0.0116, -1.2735,  0.1225,  0.6411,  0.2643,  0.5202,  0.3701,  0.0701,\n",
       "         -0.3931,  0.2665,  0.8281,  0.3925, -0.9762,  0.0633,  0.5376, -0.3201],\n",
       "        [ 0.9448, -1.0424, -0.7873,  0.5302,  0.0658,  0.6236, -0.1832,  1.1294,\n",
       "          0.4910, -0.0195,  0.7048,  1.3998,  0.4556,  0.8646, -0.2026, -0.4290,\n",
       "         -0.1479, -0.0901,  1.0054, -0.4510, -0.1345, -0.1178, -0.3862,  0.4515,\n",
       "          1.1967,  0.5483, -0.3600,  0.5713,  0.3901, -0.4534,  0.4421, -0.2241],\n",
       "        [ 0.3602,  0.3605,  1.6869,  0.0447,  0.0131,  0.4407, -0.8250, -1.0779,\n",
       "         -0.4620, -0.6680,  0.3935, -0.0041, -0.0141, -0.6126, -0.7687, -0.1662,\n",
       "          0.3416, -0.8928,  0.2881,  0.9859, -0.6207,  0.1412,  0.5736, -0.8701,\n",
       "         -0.0902, -0.3355,  1.2091,  0.4819,  0.5685, -0.2906,  0.4154, -0.7510],\n",
       "        [ 0.4440, -0.3239, -0.8121,  0.6208, -0.3895, -1.0577, -0.6378, -0.1385,\n",
       "         -0.9950,  0.1774,  0.0625,  0.7610, -0.1252, -0.3108, -0.1363,  0.1151,\n",
       "         -0.0458,  1.0413, -0.2904,  0.2216, -0.1737, -0.0919, -0.2951,  0.3233,\n",
       "          0.0595, -0.5373, -0.7198, -0.5820, -0.6062, -0.0792, -0.3906, -0.3915]],\n",
       "       device='cuda:0')"
      ]
     },
     "execution_count": 12,
     "metadata": {},
     "output_type": "execute_result"
    }
   ],
   "source": [
    "lora_linear.disable_adapter()\n",
    "lora_linear(x)"
   ]
  },
  {
   "cell_type": "raw",
   "id": "3c1f624d-6673-40ce-ae74-6247b54a8202",
   "metadata": {},
   "source": [
    "lora_linear.state_dict()"
   ]
  },
  {
   "cell_type": "code",
   "execution_count": null,
   "id": "edc291ff-bc80-48e0-9e07-a5855b1c7af2",
   "metadata": {},
   "outputs": [],
   "source": []
  }
 ],
 "metadata": {
  "kernelspec": {
   "display_name": "Python 3 (ipykernel)",
   "language": "python",
   "name": "python3"
  },
  "language_info": {
   "codemirror_mode": {
    "name": "ipython",
    "version": 3
   },
   "file_extension": ".py",
   "mimetype": "text/x-python",
   "name": "python",
   "nbconvert_exporter": "python",
   "pygments_lexer": "ipython3",
   "version": "3.12.6"
  }
 },
 "nbformat": 4,
 "nbformat_minor": 5
}
